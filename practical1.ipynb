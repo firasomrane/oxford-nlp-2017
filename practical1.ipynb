{
  "nbformat": 4,
  "nbformat_minor": 0,
  "metadata": {
    "colab": {
      "name": "practical1.ipynb",
      "version": "0.3.2",
      "provenance": [],
      "collapsed_sections": []
    },
    "kernelspec": {
      "name": "python3",
      "display_name": "Python 3"
    },
    "accelerator": "TPU"
  },
  "cells": [
    {
      "metadata": {
        "id": "_9VoraQvscqA",
        "colab_type": "text"
      },
      "cell_type": "markdown",
      "source": [
        "## Practical 1: word2vec\n",
        "<p>Oxford CS - Deep NLP 2017<br>\n",
        "https://www.cs.ox.ac.uk/teaching/courses/2016-2017/dl/</p>\n",
        "<p>[Yannis Assael, Brendan Shillingford, Chris Dyer]</p>"
      ]
    },
    {
      "metadata": {
        "id": "3-b1xeYpk3D1",
        "colab_type": "code",
        "colab": {}
      },
      "cell_type": "code",
      "source": [
        ""
      ],
      "execution_count": 0,
      "outputs": []
    },
    {
      "metadata": {
        "id": "18fmZJULscqC",
        "colab_type": "text"
      },
      "cell_type": "markdown",
      "source": [
        "This practical is presented as an IPython Notebook, with the code written for recent versions of **Python 3**. The code in this practical will not work with Python 2 unless you modify it. If you are using your own Python installation, ensure you have a setup identical to that described in the installation shell script (which is intended for use with the department lab machines). We will be unable to support installation on personal machines due to time constraints, so please use the lab machines and the setup script if you are unfamiliar with how to install Anaconda.\n",
        "\n",
        "To execute a notebook cell, press `shift-enter`. The return value of the last command will be displayed, if it is not `None`.\n",
        "\n",
        "Potentially useful library documentation, references, and resources:\n",
        "\n",
        "* IPython notebooks: <https://ipython.org/ipython-doc/3/notebook/notebook.html#introduction>\n",
        "* Numpy numerical array library: <https://docs.scipy.org/doc/>\n",
        "* Gensim's word2vec: <https://radimrehurek.com/gensim/models/word2vec.html>\n",
        "* Bokeh interactive plots: <http://bokeh.pydata.org/en/latest/> (we provide plotting code here, but click the thumbnails for more examples to copy-paste)\n",
        "* scikit-learn ML library (aka `sklearn`): <http://scikit-learn.org/stable/documentation.html>\n",
        "* nltk NLP toolkit: <http://www.nltk.org/>\n",
        "* tutorial for processing xml in python using `lxml`: <http://lxml.de/tutorial.html> (we did this for you below, but in case you need it in the future)"
      ]
    },
    {
      "metadata": {
        "id": "ED_Fgcn6scqD",
        "colab_type": "code",
        "outputId": "2230c8e5-3a14-42de-876a-4ac2b6c13ffb",
        "colab": {
          "base_uri": "https://localhost:8080/",
          "height": 377
        }
      },
      "cell_type": "code",
      "source": [
        "#This displays the infos of the kernel to which this notebook is connected . id, ...\n",
        "#https://ipython.org/ipython-doc/3/notebook/notebook.html#introduction\n",
        "%connect_info\n",
        "# So an active notebook is exactly one inteactive session with an Ipython kernel, which will execute code sent by the user\n",
        "# and communicate back results.\n",
        "# To read more about kernels https://ipython.org/ipython-doc/3/overview.html#ipythonzmq\n",
        "# To connect to same kernel ipython qtconsole --existing 1ddeb292"
      ],
      "execution_count": 0,
      "outputs": [
        {
          "output_type": "stream",
          "text": [
            "{\n",
            "  \"shell_port\": 41617,\n",
            "  \"iopub_port\": 49607,\n",
            "  \"stdin_port\": 60221,\n",
            "  \"control_port\": 53091,\n",
            "  \"hb_port\": 45017,\n",
            "  \"ip\": \"127.0.0.1\",\n",
            "  \"key\": \"\",\n",
            "  \"transport\": \"tcp\",\n",
            "  \"signature_scheme\": \"hmac-sha256\",\n",
            "  \"kernel_name\": \"\"\n",
            "}\n",
            "\n",
            "Paste the above JSON into a file, and connect with:\n",
            "    $> jupyter <app> --existing <file>\n",
            "or, if you are local, you can connect with just:\n",
            "    $> jupyter <app> --existing kernel-78bba7ad-839c-46c6-b500-f7a7b7d49106.json\n",
            "or even just:\n",
            "    $> jupyter <app> --existing\n",
            "if this is the most recent Jupyter kernel you have started.\n"
          ],
          "name": "stdout"
        }
      ]
    },
    {
      "metadata": {
        "id": "I448waXgscqK",
        "colab_type": "code",
        "colab": {}
      },
      "cell_type": "code",
      "source": [
        "import numpy as np\n",
        "import os\n",
        "from random import shuffle\n",
        "import re"
      ],
      "execution_count": 0,
      "outputs": []
    },
    {
      "metadata": {
        "id": "siQwyeYjscqM",
        "colab_type": "code",
        "outputId": "4bd6fd4c-41fa-4ccb-9290-93a331ffafcf",
        "colab": {
          "base_uri": "https://localhost:8080/",
          "height": 47
        }
      },
      "cell_type": "code",
      "source": [
        "from bokeh.models import ColumnDataSource, LabelSet\n",
        "from bokeh.plotting import figure, show, output_file\n",
        "from bokeh.io import output_notebook\n",
        "output_notebook()"
      ],
      "execution_count": 0,
      "outputs": [
        {
          "output_type": "display_data",
          "data": {
            "text/html": [
              "\n",
              "    <div class=\"bk-root\">\n",
              "        <a href=\"https://bokeh.pydata.org\" target=\"_blank\" class=\"bk-logo bk-logo-small bk-logo-notebook\"></a>\n",
              "        <span id=\"2342\">Loading BokehJS ...</span>\n",
              "    </div>"
            ]
          },
          "metadata": {
            "tags": []
          }
        },
        {
          "output_type": "display_data",
          "data": {
            "application/javascript": [
              "\n",
              "(function(root) {\n",
              "  function now() {\n",
              "    return new Date();\n",
              "  }\n",
              "\n",
              "  var force = true;\n",
              "\n",
              "  if (typeof (root._bokeh_onload_callbacks) === \"undefined\" || force === true) {\n",
              "    root._bokeh_onload_callbacks = [];\n",
              "    root._bokeh_is_loading = undefined;\n",
              "  }\n",
              "\n",
              "  var JS_MIME_TYPE = 'application/javascript';\n",
              "  var HTML_MIME_TYPE = 'text/html';\n",
              "  var EXEC_MIME_TYPE = 'application/vnd.bokehjs_exec.v0+json';\n",
              "  var CLASS_NAME = 'output_bokeh rendered_html';\n",
              "\n",
              "  /**\n",
              "   * Render data to the DOM node\n",
              "   */\n",
              "  function render(props, node) {\n",
              "    var script = document.createElement(\"script\");\n",
              "    node.appendChild(script);\n",
              "  }\n",
              "\n",
              "  /**\n",
              "   * Handle when an output is cleared or removed\n",
              "   */\n",
              "  function handleClearOutput(event, handle) {\n",
              "    var cell = handle.cell;\n",
              "\n",
              "    var id = cell.output_area._bokeh_element_id;\n",
              "    var server_id = cell.output_area._bokeh_server_id;\n",
              "    // Clean up Bokeh references\n",
              "    if (id != null && id in Bokeh.index) {\n",
              "      Bokeh.index[id].model.document.clear();\n",
              "      delete Bokeh.index[id];\n",
              "    }\n",
              "\n",
              "    if (server_id !== undefined) {\n",
              "      // Clean up Bokeh references\n",
              "      var cmd = \"from bokeh.io.state import curstate; print(curstate().uuid_to_server['\" + server_id + \"'].get_sessions()[0].document.roots[0]._id)\";\n",
              "      cell.notebook.kernel.execute(cmd, {\n",
              "        iopub: {\n",
              "          output: function(msg) {\n",
              "            var id = msg.content.text.trim();\n",
              "            if (id in Bokeh.index) {\n",
              "              Bokeh.index[id].model.document.clear();\n",
              "              delete Bokeh.index[id];\n",
              "            }\n",
              "          }\n",
              "        }\n",
              "      });\n",
              "      // Destroy server and session\n",
              "      var cmd = \"import bokeh.io.notebook as ion; ion.destroy_server('\" + server_id + \"')\";\n",
              "      cell.notebook.kernel.execute(cmd);\n",
              "    }\n",
              "  }\n",
              "\n",
              "  /**\n",
              "   * Handle when a new output is added\n",
              "   */\n",
              "  function handleAddOutput(event, handle) {\n",
              "    var output_area = handle.output_area;\n",
              "    var output = handle.output;\n",
              "\n",
              "    // limit handleAddOutput to display_data with EXEC_MIME_TYPE content only\n",
              "    if ((output.output_type != \"display_data\") || (!output.data.hasOwnProperty(EXEC_MIME_TYPE))) {\n",
              "      return\n",
              "    }\n",
              "\n",
              "    var toinsert = output_area.element.find(\".\" + CLASS_NAME.split(' ')[0]);\n",
              "\n",
              "    if (output.metadata[EXEC_MIME_TYPE][\"id\"] !== undefined) {\n",
              "      toinsert[toinsert.length - 1].firstChild.textContent = output.data[JS_MIME_TYPE];\n",
              "      // store reference to embed id on output_area\n",
              "      output_area._bokeh_element_id = output.metadata[EXEC_MIME_TYPE][\"id\"];\n",
              "    }\n",
              "    if (output.metadata[EXEC_MIME_TYPE][\"server_id\"] !== undefined) {\n",
              "      var bk_div = document.createElement(\"div\");\n",
              "      bk_div.innerHTML = output.data[HTML_MIME_TYPE];\n",
              "      var script_attrs = bk_div.children[0].attributes;\n",
              "      for (var i = 0; i < script_attrs.length; i++) {\n",
              "        toinsert[toinsert.length - 1].firstChild.setAttribute(script_attrs[i].name, script_attrs[i].value);\n",
              "      }\n",
              "      // store reference to server id on output_area\n",
              "      output_area._bokeh_server_id = output.metadata[EXEC_MIME_TYPE][\"server_id\"];\n",
              "    }\n",
              "  }\n",
              "\n",
              "  function register_renderer(events, OutputArea) {\n",
              "\n",
              "    function append_mime(data, metadata, element) {\n",
              "      // create a DOM node to render to\n",
              "      var toinsert = this.create_output_subarea(\n",
              "        metadata,\n",
              "        CLASS_NAME,\n",
              "        EXEC_MIME_TYPE\n",
              "      );\n",
              "      this.keyboard_manager.register_events(toinsert);\n",
              "      // Render to node\n",
              "      var props = {data: data, metadata: metadata[EXEC_MIME_TYPE]};\n",
              "      render(props, toinsert[toinsert.length - 1]);\n",
              "      element.append(toinsert);\n",
              "      return toinsert\n",
              "    }\n",
              "\n",
              "    /* Handle when an output is cleared or removed */\n",
              "    events.on('clear_output.CodeCell', handleClearOutput);\n",
              "    events.on('delete.Cell', handleClearOutput);\n",
              "\n",
              "    /* Handle when a new output is added */\n",
              "    events.on('output_added.OutputArea', handleAddOutput);\n",
              "\n",
              "    /**\n",
              "     * Register the mime type and append_mime function with output_area\n",
              "     */\n",
              "    OutputArea.prototype.register_mime_type(EXEC_MIME_TYPE, append_mime, {\n",
              "      /* Is output safe? */\n",
              "      safe: true,\n",
              "      /* Index of renderer in `output_area.display_order` */\n",
              "      index: 0\n",
              "    });\n",
              "  }\n",
              "\n",
              "  // register the mime type if in Jupyter Notebook environment and previously unregistered\n",
              "  if (root.Jupyter !== undefined) {\n",
              "    var events = require('base/js/events');\n",
              "    var OutputArea = require('notebook/js/outputarea').OutputArea;\n",
              "\n",
              "    if (OutputArea.prototype.mime_types().indexOf(EXEC_MIME_TYPE) == -1) {\n",
              "      register_renderer(events, OutputArea);\n",
              "    }\n",
              "  }\n",
              "\n",
              "  \n",
              "  if (typeof (root._bokeh_timeout) === \"undefined\" || force === true) {\n",
              "    root._bokeh_timeout = Date.now() + 5000;\n",
              "    root._bokeh_failed_load = false;\n",
              "  }\n",
              "\n",
              "  var NB_LOAD_WARNING = {'data': {'text/html':\n",
              "     \"<div style='background-color: #fdd'>\\n\"+\n",
              "     \"<p>\\n\"+\n",
              "     \"BokehJS does not appear to have successfully loaded. If loading BokehJS from CDN, this \\n\"+\n",
              "     \"may be due to a slow or bad network connection. Possible fixes:\\n\"+\n",
              "     \"</p>\\n\"+\n",
              "     \"<ul>\\n\"+\n",
              "     \"<li>re-rerun `output_notebook()` to attempt to load from CDN again, or</li>\\n\"+\n",
              "     \"<li>use INLINE resources instead, as so:</li>\\n\"+\n",
              "     \"</ul>\\n\"+\n",
              "     \"<code>\\n\"+\n",
              "     \"from bokeh.resources import INLINE\\n\"+\n",
              "     \"output_notebook(resources=INLINE)\\n\"+\n",
              "     \"</code>\\n\"+\n",
              "     \"</div>\"}};\n",
              "\n",
              "  function display_loaded() {\n",
              "    var el = document.getElementById(\"2342\");\n",
              "    if (el != null) {\n",
              "      el.textContent = \"BokehJS is loading...\";\n",
              "    }\n",
              "    if (root.Bokeh !== undefined) {\n",
              "      if (el != null) {\n",
              "        el.textContent = \"BokehJS \" + root.Bokeh.version + \" successfully loaded.\";\n",
              "      }\n",
              "    } else if (Date.now() < root._bokeh_timeout) {\n",
              "      setTimeout(display_loaded, 100)\n",
              "    }\n",
              "  }\n",
              "\n",
              "\n",
              "  function run_callbacks() {\n",
              "    try {\n",
              "      root._bokeh_onload_callbacks.forEach(function(callback) { callback() });\n",
              "    }\n",
              "    finally {\n",
              "      delete root._bokeh_onload_callbacks\n",
              "    }\n",
              "    console.info(\"Bokeh: all callbacks have finished\");\n",
              "  }\n",
              "\n",
              "  function load_libs(js_urls, callback) {\n",
              "    root._bokeh_onload_callbacks.push(callback);\n",
              "    if (root._bokeh_is_loading > 0) {\n",
              "      console.log(\"Bokeh: BokehJS is being loaded, scheduling callback at\", now());\n",
              "      return null;\n",
              "    }\n",
              "    if (js_urls == null || js_urls.length === 0) {\n",
              "      run_callbacks();\n",
              "      return null;\n",
              "    }\n",
              "    console.log(\"Bokeh: BokehJS not loaded, scheduling load and callback at\", now());\n",
              "    root._bokeh_is_loading = js_urls.length;\n",
              "    for (var i = 0; i < js_urls.length; i++) {\n",
              "      var url = js_urls[i];\n",
              "      var s = document.createElement('script');\n",
              "      s.src = url;\n",
              "      s.async = false;\n",
              "      s.onreadystatechange = s.onload = function() {\n",
              "        root._bokeh_is_loading--;\n",
              "        if (root._bokeh_is_loading === 0) {\n",
              "          console.log(\"Bokeh: all BokehJS libraries loaded\");\n",
              "          run_callbacks()\n",
              "        }\n",
              "      };\n",
              "      s.onerror = function() {\n",
              "        console.warn(\"failed to load library \" + url);\n",
              "      };\n",
              "      console.log(\"Bokeh: injecting script tag for BokehJS library: \", url);\n",
              "      document.getElementsByTagName(\"head\")[0].appendChild(s);\n",
              "    }\n",
              "  };var element = document.getElementById(\"2342\");\n",
              "  if (element == null) {\n",
              "    console.log(\"Bokeh: ERROR: autoload.js configured with elementid '2342' but no matching script tag was found. \")\n",
              "    return false;\n",
              "  }\n",
              "\n",
              "  var js_urls = [\"https://cdn.pydata.org/bokeh/release/bokeh-1.0.4.min.js\", \"https://cdn.pydata.org/bokeh/release/bokeh-widgets-1.0.4.min.js\", \"https://cdn.pydata.org/bokeh/release/bokeh-tables-1.0.4.min.js\", \"https://cdn.pydata.org/bokeh/release/bokeh-gl-1.0.4.min.js\"];\n",
              "\n",
              "  var inline_js = [\n",
              "    function(Bokeh) {\n",
              "      Bokeh.set_log_level(\"info\");\n",
              "    },\n",
              "    \n",
              "    function(Bokeh) {\n",
              "      \n",
              "    },\n",
              "    function(Bokeh) {\n",
              "      console.log(\"Bokeh: injecting CSS: https://cdn.pydata.org/bokeh/release/bokeh-1.0.4.min.css\");\n",
              "      Bokeh.embed.inject_css(\"https://cdn.pydata.org/bokeh/release/bokeh-1.0.4.min.css\");\n",
              "      console.log(\"Bokeh: injecting CSS: https://cdn.pydata.org/bokeh/release/bokeh-widgets-1.0.4.min.css\");\n",
              "      Bokeh.embed.inject_css(\"https://cdn.pydata.org/bokeh/release/bokeh-widgets-1.0.4.min.css\");\n",
              "      console.log(\"Bokeh: injecting CSS: https://cdn.pydata.org/bokeh/release/bokeh-tables-1.0.4.min.css\");\n",
              "      Bokeh.embed.inject_css(\"https://cdn.pydata.org/bokeh/release/bokeh-tables-1.0.4.min.css\");\n",
              "    }\n",
              "  ];\n",
              "\n",
              "  function run_inline_js() {\n",
              "    \n",
              "    if ((root.Bokeh !== undefined) || (force === true)) {\n",
              "      for (var i = 0; i < inline_js.length; i++) {\n",
              "        inline_js[i].call(root, root.Bokeh);\n",
              "      }if (force === true) {\n",
              "        display_loaded();\n",
              "      }} else if (Date.now() < root._bokeh_timeout) {\n",
              "      setTimeout(run_inline_js, 100);\n",
              "    } else if (!root._bokeh_failed_load) {\n",
              "      console.log(\"Bokeh: BokehJS failed to load within specified timeout.\");\n",
              "      root._bokeh_failed_load = true;\n",
              "    } else if (force !== true) {\n",
              "      var cell = $(document.getElementById(\"2342\")).parents('.cell').data().cell;\n",
              "      cell.output_area.append_execute_result(NB_LOAD_WARNING)\n",
              "    }\n",
              "\n",
              "  }\n",
              "\n",
              "  if (root._bokeh_is_loading === 0) {\n",
              "    console.log(\"Bokeh: BokehJS loaded, going straight to plotting\");\n",
              "    run_inline_js();\n",
              "  } else {\n",
              "    load_libs(js_urls, function() {\n",
              "      console.log(\"Bokeh: BokehJS plotting callback run at\", now());\n",
              "      run_inline_js();\n",
              "    });\n",
              "  }\n",
              "}(window));"
            ],
            "application/vnd.bokehjs_load.v0+json": "\n(function(root) {\n  function now() {\n    return new Date();\n  }\n\n  var force = true;\n\n  if (typeof (root._bokeh_onload_callbacks) === \"undefined\" || force === true) {\n    root._bokeh_onload_callbacks = [];\n    root._bokeh_is_loading = undefined;\n  }\n\n  \n\n  \n  if (typeof (root._bokeh_timeout) === \"undefined\" || force === true) {\n    root._bokeh_timeout = Date.now() + 5000;\n    root._bokeh_failed_load = false;\n  }\n\n  var NB_LOAD_WARNING = {'data': {'text/html':\n     \"<div style='background-color: #fdd'>\\n\"+\n     \"<p>\\n\"+\n     \"BokehJS does not appear to have successfully loaded. If loading BokehJS from CDN, this \\n\"+\n     \"may be due to a slow or bad network connection. Possible fixes:\\n\"+\n     \"</p>\\n\"+\n     \"<ul>\\n\"+\n     \"<li>re-rerun `output_notebook()` to attempt to load from CDN again, or</li>\\n\"+\n     \"<li>use INLINE resources instead, as so:</li>\\n\"+\n     \"</ul>\\n\"+\n     \"<code>\\n\"+\n     \"from bokeh.resources import INLINE\\n\"+\n     \"output_notebook(resources=INLINE)\\n\"+\n     \"</code>\\n\"+\n     \"</div>\"}};\n\n  function display_loaded() {\n    var el = document.getElementById(\"2342\");\n    if (el != null) {\n      el.textContent = \"BokehJS is loading...\";\n    }\n    if (root.Bokeh !== undefined) {\n      if (el != null) {\n        el.textContent = \"BokehJS \" + root.Bokeh.version + \" successfully loaded.\";\n      }\n    } else if (Date.now() < root._bokeh_timeout) {\n      setTimeout(display_loaded, 100)\n    }\n  }\n\n\n  function run_callbacks() {\n    try {\n      root._bokeh_onload_callbacks.forEach(function(callback) { callback() });\n    }\n    finally {\n      delete root._bokeh_onload_callbacks\n    }\n    console.info(\"Bokeh: all callbacks have finished\");\n  }\n\n  function load_libs(js_urls, callback) {\n    root._bokeh_onload_callbacks.push(callback);\n    if (root._bokeh_is_loading > 0) {\n      console.log(\"Bokeh: BokehJS is being loaded, scheduling callback at\", now());\n      return null;\n    }\n    if (js_urls == null || js_urls.length === 0) {\n      run_callbacks();\n      return null;\n    }\n    console.log(\"Bokeh: BokehJS not loaded, scheduling load and callback at\", now());\n    root._bokeh_is_loading = js_urls.length;\n    for (var i = 0; i < js_urls.length; i++) {\n      var url = js_urls[i];\n      var s = document.createElement('script');\n      s.src = url;\n      s.async = false;\n      s.onreadystatechange = s.onload = function() {\n        root._bokeh_is_loading--;\n        if (root._bokeh_is_loading === 0) {\n          console.log(\"Bokeh: all BokehJS libraries loaded\");\n          run_callbacks()\n        }\n      };\n      s.onerror = function() {\n        console.warn(\"failed to load library \" + url);\n      };\n      console.log(\"Bokeh: injecting script tag for BokehJS library: \", url);\n      document.getElementsByTagName(\"head\")[0].appendChild(s);\n    }\n  };var element = document.getElementById(\"2342\");\n  if (element == null) {\n    console.log(\"Bokeh: ERROR: autoload.js configured with elementid '2342' but no matching script tag was found. \")\n    return false;\n  }\n\n  var js_urls = [\"https://cdn.pydata.org/bokeh/release/bokeh-1.0.4.min.js\", \"https://cdn.pydata.org/bokeh/release/bokeh-widgets-1.0.4.min.js\", \"https://cdn.pydata.org/bokeh/release/bokeh-tables-1.0.4.min.js\", \"https://cdn.pydata.org/bokeh/release/bokeh-gl-1.0.4.min.js\"];\n\n  var inline_js = [\n    function(Bokeh) {\n      Bokeh.set_log_level(\"info\");\n    },\n    \n    function(Bokeh) {\n      \n    },\n    function(Bokeh) {\n      console.log(\"Bokeh: injecting CSS: https://cdn.pydata.org/bokeh/release/bokeh-1.0.4.min.css\");\n      Bokeh.embed.inject_css(\"https://cdn.pydata.org/bokeh/release/bokeh-1.0.4.min.css\");\n      console.log(\"Bokeh: injecting CSS: https://cdn.pydata.org/bokeh/release/bokeh-widgets-1.0.4.min.css\");\n      Bokeh.embed.inject_css(\"https://cdn.pydata.org/bokeh/release/bokeh-widgets-1.0.4.min.css\");\n      console.log(\"Bokeh: injecting CSS: https://cdn.pydata.org/bokeh/release/bokeh-tables-1.0.4.min.css\");\n      Bokeh.embed.inject_css(\"https://cdn.pydata.org/bokeh/release/bokeh-tables-1.0.4.min.css\");\n    }\n  ];\n\n  function run_inline_js() {\n    \n    if ((root.Bokeh !== undefined) || (force === true)) {\n      for (var i = 0; i < inline_js.length; i++) {\n        inline_js[i].call(root, root.Bokeh);\n      }if (force === true) {\n        display_loaded();\n      }} else if (Date.now() < root._bokeh_timeout) {\n      setTimeout(run_inline_js, 100);\n    } else if (!root._bokeh_failed_load) {\n      console.log(\"Bokeh: BokehJS failed to load within specified timeout.\");\n      root._bokeh_failed_load = true;\n    } else if (force !== true) {\n      var cell = $(document.getElementById(\"2342\")).parents('.cell').data().cell;\n      cell.output_area.append_execute_result(NB_LOAD_WARNING)\n    }\n\n  }\n\n  if (root._bokeh_is_loading === 0) {\n    console.log(\"Bokeh: BokehJS loaded, going straight to plotting\");\n    run_inline_js();\n  } else {\n    load_libs(js_urls, function() {\n      console.log(\"Bokeh: BokehJS plotting callback run at\", now());\n      run_inline_js();\n    });\n  }\n}(window));"
          },
          "metadata": {
            "tags": []
          }
        }
      ]
    },
    {
      "metadata": {
        "id": "g2xhJohBscqQ",
        "colab_type": "text"
      },
      "cell_type": "markdown",
      "source": [
        "### Part 0: Download the TED dataset"
      ]
    },
    {
      "metadata": {
        "id": "iPtbxiL4scqR",
        "colab_type": "code",
        "colab": {}
      },
      "cell_type": "code",
      "source": [
        "import urllib.request\n",
        "import zipfile\n",
        "import lxml.etree"
      ],
      "execution_count": 0,
      "outputs": []
    },
    {
      "metadata": {
        "id": "V7oscM7nscqU",
        "colab_type": "code",
        "colab": {}
      },
      "cell_type": "code",
      "source": [
        "# Download the dataset if it's not already there: this may take a minute as it is 75MB\n",
        "if not os.path.isfile('ted_en-20160408.zip'):\n",
        "    urllib.request.urlretrieve(\"https://wit3.fbk.eu/get.php?path=XML_releases/xml/ted_en-20160408.zip&filename=ted_en-20160408.zip\", filename=\"ted_en-20160408.zip\")"
      ],
      "execution_count": 0,
      "outputs": []
    },
    {
      "metadata": {
        "id": "4LBlHVjCscqX",
        "colab_type": "code",
        "colab": {}
      },
      "cell_type": "code",
      "source": [
        "# For now, we're only interested in the subtitle text, so let's extract that from the XML:\n",
        "with zipfile.ZipFile('ted_en-20160408.zip', 'r') as z:\n",
        "    doc = lxml.etree.parse(z.open('ted_en-20160408.xml', 'r'))\n",
        "input_text = '\\n'.join(doc.xpath('//content/text()'))\n",
        "del doc"
      ],
      "execution_count": 0,
      "outputs": []
    },
    {
      "metadata": {
        "id": "PYcphPEnscqa",
        "colab_type": "text"
      },
      "cell_type": "markdown",
      "source": [
        "### Part 1: Preprocessing\n",
        "\n",
        "In this part, we attempt to clean up the raw subtitles a bit, so that we get only sentences. The following substring shows examples of what we're trying to get rid of. Since it's hard to define precisely what we want to get rid of, we'll just use some simple heuristics."
      ]
    },
    {
      "metadata": {
        "scrolled": false,
        "id": "kHDGPSJFscqa",
        "colab_type": "code",
        "outputId": "016974df-d466-46fb-fba6-d27c86d3205d",
        "colab": {
          "base_uri": "https://localhost:8080/",
          "height": 55
        }
      },
      "cell_type": "code",
      "source": [
        "i = input_text.find(\"Hyowon Gweon: See this?\")\n",
        "input_text[i-20:i+150]"
      ],
      "execution_count": 0,
      "outputs": [
        {
          "output_type": "execute_result",
          "data": {
            "text/plain": [
              "' baby does.\\n(Video) Hyowon Gweon: See this? (Ball squeaks) Did you see that? (Ball squeaks) Cool. See this one? (Ball squeaks) Wow.\\nLaura Schulz: Told you. (Laughs)\\n(Vide'"
            ]
          },
          "metadata": {
            "tags": []
          },
          "execution_count": 143
        }
      ]
    },
    {
      "metadata": {
        "id": "5SoEnkRDscqe",
        "colab_type": "text"
      },
      "cell_type": "markdown",
      "source": [
        "Let's start by removing all parenthesized strings using a regex:"
      ]
    },
    {
      "metadata": {
        "id": "nwplrFCPscqf",
        "colab_type": "code",
        "colab": {}
      },
      "cell_type": "code",
      "source": [
        "input_text_noparens = re.sub(r'\\([^)]*\\)', '', input_text)"
      ],
      "execution_count": 0,
      "outputs": []
    },
    {
      "metadata": {
        "id": "SjL_6OLascqi",
        "colab_type": "text"
      },
      "cell_type": "markdown",
      "source": [
        "We can verify the same location in the text is now clean as follows. We won't worry about the irregular spaces since we'll later split the text into sentences and tokenize it anyway."
      ]
    },
    {
      "metadata": {
        "id": "jbYUNDfescqi",
        "colab_type": "code",
        "outputId": "e2042b02-65ec-41f1-e894-989106948008",
        "colab": {
          "base_uri": "https://localhost:8080/",
          "height": 55
        }
      },
      "cell_type": "code",
      "source": [
        "i = input_text_noparens.find(\"Hyowon Gweon: See this?\")\n",
        "input_text_noparens[i-20:i+150]"
      ],
      "execution_count": 0,
      "outputs": [
        {
          "output_type": "execute_result",
          "data": {
            "text/plain": [
              "\"hat the baby does.\\n Hyowon Gweon: See this?  Did you see that?  Cool. See this one?  Wow.\\nLaura Schulz: Told you. \\n HG: See this one?  Hey Clara, this one's for you. You \""
            ]
          },
          "metadata": {
            "tags": []
          },
          "execution_count": 145
        }
      ]
    },
    {
      "metadata": {
        "id": "e8hVLCHlscqn",
        "colab_type": "text"
      },
      "cell_type": "markdown",
      "source": [
        "Now, let's attempt to remove speakers' names that occur at the beginning of a line, by deleting pieces of the form \"`<up to 20 characters>:`\", as shown in this example. Of course, this is an imperfect heuristic. "
      ]
    },
    {
      "metadata": {
        "id": "y0HqCq89scqo",
        "colab_type": "code",
        "outputId": "1fd2ac51-359a-4a9c-f968-ee98b1fc406f",
        "colab": {
          "base_uri": "https://localhost:8080/",
          "height": 107
        }
      },
      "cell_type": "code",
      "source": [
        "sentences_strings_ted = []\n",
        "for line in input_text_noparens.split('\\n'):\n",
        "    m = re.match(r'^(?:(?P<precolon>[^:]{,20}):)?(?P<postcolon>.*)$', line)\n",
        "    sentences_strings_ted.extend(sent for sent in m.groupdict()['postcolon'].split('.') if sent)\n",
        "\n",
        "# Uncomment if you need to save some RAM: these strings are about 50MB.\n",
        "# del input_text, input_text_noparens\n",
        "\n",
        "# Let's view the first few:\n",
        "sentences_strings_ted[:5]"
      ],
      "execution_count": 0,
      "outputs": [
        {
          "output_type": "execute_result",
          "data": {
            "text/plain": [
              "[\"Here are two reasons companies fail: they only do more of the same, or they only do what's new\",\n",
              " 'To me the real, real solution to quality growth is figuring out the balance between two activities: exploration and exploitation',\n",
              " ' Both are necessary, but it can be too much of a good thing',\n",
              " 'Consider Facit',\n",
              " \" I'm actually old enough to remember them\"]"
            ]
          },
          "metadata": {
            "tags": []
          },
          "execution_count": 146
        }
      ]
    },
    {
      "metadata": {
        "id": "3y5KA8n_scqs",
        "colab_type": "text"
      },
      "cell_type": "markdown",
      "source": [
        "Now that we have sentences, we're ready to tokenize each of them into words. This tokenization is imperfect, of course. For instance, how many tokens is \"can't\", and where/how do we split it? We'll take the simplest naive approach of splitting on spaces. Before splitting, we remove non-alphanumeric characters, such as punctuation. You may want to consider the following question: why do we replace these characters with spaces rather than deleting them? Think of a case where this yields a different answer."
      ]
    },
    {
      "metadata": {
        "id": "b01jurS6scqt",
        "colab_type": "code",
        "colab": {}
      },
      "cell_type": "code",
      "source": [
        "sentences_ted = []\n",
        "for sent_str in sentences_strings_ted:\n",
        "    tokens = re.sub(r\"[^a-z0-9]+\", \" \", sent_str.lower()).split()\n",
        "    sentences_ted.append(tokens)"
      ],
      "execution_count": 0,
      "outputs": []
    },
    {
      "metadata": {
        "id": "ts8aKo3yscqw",
        "colab_type": "text"
      },
      "cell_type": "markdown",
      "source": [
        "Two sample processed sentences:"
      ]
    },
    {
      "metadata": {
        "id": "a-ni9U37scqy",
        "colab_type": "code",
        "outputId": "36a71903-6bf1-42f3-ff4e-b13298de567c",
        "colab": {
          "base_uri": "https://localhost:8080/",
          "height": 53
        }
      },
      "cell_type": "code",
      "source": [
        "print(len(sentences_ted))\n",
        "len(sentences_ted[0])"
      ],
      "execution_count": 0,
      "outputs": [
        {
          "output_type": "stream",
          "text": [
            "266694\n"
          ],
          "name": "stdout"
        },
        {
          "output_type": "execute_result",
          "data": {
            "text/plain": [
              "20"
            ]
          },
          "metadata": {
            "tags": []
          },
          "execution_count": 148
        }
      ]
    },
    {
      "metadata": {
        "id": "3nfYSE6iscq3",
        "colab_type": "code",
        "outputId": "bf551027-adae-486f-b414-96baabd4f709",
        "colab": {
          "base_uri": "https://localhost:8080/",
          "height": 73
        }
      },
      "cell_type": "code",
      "source": [
        "print(sentences_ted[0])\n",
        "print(sentences_ted[1])"
      ],
      "execution_count": 0,
      "outputs": [
        {
          "output_type": "stream",
          "text": [
            "['here', 'are', 'two', 'reasons', 'companies', 'fail', 'they', 'only', 'do', 'more', 'of', 'the', 'same', 'or', 'they', 'only', 'do', 'what', 's', 'new']\n",
            "['to', 'me', 'the', 'real', 'real', 'solution', 'to', 'quality', 'growth', 'is', 'figuring', 'out', 'the', 'balance', 'between', 'two', 'activities', 'exploration', 'and', 'exploitation']\n"
          ],
          "name": "stdout"
        }
      ]
    },
    {
      "metadata": {
        "id": "kfw70qd7scq-",
        "colab_type": "text"
      },
      "cell_type": "markdown",
      "source": [
        "### Part 2: Word Frequencies"
      ]
    },
    {
      "metadata": {
        "id": "gb0ivrdWscrA",
        "colab_type": "text"
      },
      "cell_type": "markdown",
      "source": [
        "If you store the counts of the top 1000 words in a list called `counts_ted_top1000`, the code below will plot the histogram requested in the writeup."
      ]
    },
    {
      "metadata": {
        "id": "SQ9np7erscrC",
        "colab_type": "code",
        "outputId": "4d605604-3adc-4ae6-9886-324d17921507",
        "colab": {
          "base_uri": "https://localhost:8080/",
          "height": 55
        }
      },
      "cell_type": "code",
      "source": [
        "from collections import Counter\n",
        "# c =Counter(x for xs in sentences_ted for x in xs)\n",
        "# counts_top_1000 = [x[0] for x in c.most_common(1000)]\n",
        "\n",
        "c1 = Counter()\n",
        "for xs in sentences_ted:\n",
        "    for x in xs:\n",
        "        c1[x] +=1\n",
        "\n",
        "        \n",
        "comm = c1.most_common(1000) #return a list with most commmon words with their countings in a tuple\n",
        "counts_ted_top1000 = [x[1] for x in comm]\n",
        "words_top_ted = [x[0] for x in comm]\n",
        "print(comm[:40])"
      ],
      "execution_count": 0,
      "outputs": [
        {
          "output_type": "stream",
          "text": [
            "[('the', 207748), ('and', 149305), ('to', 125169), ('of', 114818), ('a', 105399), ('that', 95146), ('i', 83180), ('in', 78070), ('it', 74738), ('you', 70923), ('we', 67629), ('is', 63251), ('s', 57156), ('this', 49241), ('so', 37014), ('they', 33102), ('was', 30806), ('for', 29713), ('are', 27995), ('have', 27344), ('but', 26732), ('what', 26519), ('on', 25962), ('with', 24706), ('can', 23377), ('t', 22757), ('about', 21246), ('there', 21041), ('be', 20201), ('as', 19488), ('at', 19216), ('all', 19021), ('not', 18626), ('do', 17928), ('my', 17908), ('one', 17551), ('re', 17012), ('people', 16723), ('like', 16273), ('if', 15868)]\n"
          ],
          "name": "stdout"
        }
      ]
    },
    {
      "metadata": {
        "id": "-AO6eKDqscrH",
        "colab_type": "text"
      },
      "cell_type": "markdown",
      "source": [
        "Plot distribution of top-1000 words"
      ]
    },
    {
      "metadata": {
        "id": "0Ki36ZjzscrI",
        "colab_type": "code",
        "outputId": "7a25a4f6-bf42-4589-805b-c0667abf0799",
        "colab": {
          "base_uri": "https://localhost:8080/",
          "height": 647
        }
      },
      "cell_type": "code",
      "source": [
        "output_notebook()\n",
        "hist, edges = np.histogram(counts_ted_top1000, density=True, bins=100, normed=True)\n",
        "\n",
        "p = figure(tools=\"pan,wheel_zoom,reset,save\",\n",
        "           toolbar_location=\"above\",\n",
        "           title=\"Top-1000 words distribution\")\n",
        "p.quad(top=hist, bottom=0, left=edges[:-1], right=edges[1:], line_color=\"#555555\")\n",
        "show(p)"
      ],
      "execution_count": 162,
      "outputs": [
        {
          "output_type": "display_data",
          "data": {
            "text/html": [
              "\n",
              "    <div class=\"bk-root\">\n",
              "        <a href=\"https://bokeh.pydata.org\" target=\"_blank\" class=\"bk-logo bk-logo-small bk-logo-notebook\"></a>\n",
              "        <span id=\"2676\">Loading BokehJS ...</span>\n",
              "    </div>"
            ]
          },
          "metadata": {
            "tags": []
          }
        },
        {
          "output_type": "display_data",
          "data": {
            "application/javascript": [
              "\n",
              "(function(root) {\n",
              "  function now() {\n",
              "    return new Date();\n",
              "  }\n",
              "\n",
              "  var force = true;\n",
              "\n",
              "  if (typeof (root._bokeh_onload_callbacks) === \"undefined\" || force === true) {\n",
              "    root._bokeh_onload_callbacks = [];\n",
              "    root._bokeh_is_loading = undefined;\n",
              "  }\n",
              "\n",
              "  var JS_MIME_TYPE = 'application/javascript';\n",
              "  var HTML_MIME_TYPE = 'text/html';\n",
              "  var EXEC_MIME_TYPE = 'application/vnd.bokehjs_exec.v0+json';\n",
              "  var CLASS_NAME = 'output_bokeh rendered_html';\n",
              "\n",
              "  /**\n",
              "   * Render data to the DOM node\n",
              "   */\n",
              "  function render(props, node) {\n",
              "    var script = document.createElement(\"script\");\n",
              "    node.appendChild(script);\n",
              "  }\n",
              "\n",
              "  /**\n",
              "   * Handle when an output is cleared or removed\n",
              "   */\n",
              "  function handleClearOutput(event, handle) {\n",
              "    var cell = handle.cell;\n",
              "\n",
              "    var id = cell.output_area._bokeh_element_id;\n",
              "    var server_id = cell.output_area._bokeh_server_id;\n",
              "    // Clean up Bokeh references\n",
              "    if (id != null && id in Bokeh.index) {\n",
              "      Bokeh.index[id].model.document.clear();\n",
              "      delete Bokeh.index[id];\n",
              "    }\n",
              "\n",
              "    if (server_id !== undefined) {\n",
              "      // Clean up Bokeh references\n",
              "      var cmd = \"from bokeh.io.state import curstate; print(curstate().uuid_to_server['\" + server_id + \"'].get_sessions()[0].document.roots[0]._id)\";\n",
              "      cell.notebook.kernel.execute(cmd, {\n",
              "        iopub: {\n",
              "          output: function(msg) {\n",
              "            var id = msg.content.text.trim();\n",
              "            if (id in Bokeh.index) {\n",
              "              Bokeh.index[id].model.document.clear();\n",
              "              delete Bokeh.index[id];\n",
              "            }\n",
              "          }\n",
              "        }\n",
              "      });\n",
              "      // Destroy server and session\n",
              "      var cmd = \"import bokeh.io.notebook as ion; ion.destroy_server('\" + server_id + \"')\";\n",
              "      cell.notebook.kernel.execute(cmd);\n",
              "    }\n",
              "  }\n",
              "\n",
              "  /**\n",
              "   * Handle when a new output is added\n",
              "   */\n",
              "  function handleAddOutput(event, handle) {\n",
              "    var output_area = handle.output_area;\n",
              "    var output = handle.output;\n",
              "\n",
              "    // limit handleAddOutput to display_data with EXEC_MIME_TYPE content only\n",
              "    if ((output.output_type != \"display_data\") || (!output.data.hasOwnProperty(EXEC_MIME_TYPE))) {\n",
              "      return\n",
              "    }\n",
              "\n",
              "    var toinsert = output_area.element.find(\".\" + CLASS_NAME.split(' ')[0]);\n",
              "\n",
              "    if (output.metadata[EXEC_MIME_TYPE][\"id\"] !== undefined) {\n",
              "      toinsert[toinsert.length - 1].firstChild.textContent = output.data[JS_MIME_TYPE];\n",
              "      // store reference to embed id on output_area\n",
              "      output_area._bokeh_element_id = output.metadata[EXEC_MIME_TYPE][\"id\"];\n",
              "    }\n",
              "    if (output.metadata[EXEC_MIME_TYPE][\"server_id\"] !== undefined) {\n",
              "      var bk_div = document.createElement(\"div\");\n",
              "      bk_div.innerHTML = output.data[HTML_MIME_TYPE];\n",
              "      var script_attrs = bk_div.children[0].attributes;\n",
              "      for (var i = 0; i < script_attrs.length; i++) {\n",
              "        toinsert[toinsert.length - 1].firstChild.setAttribute(script_attrs[i].name, script_attrs[i].value);\n",
              "      }\n",
              "      // store reference to server id on output_area\n",
              "      output_area._bokeh_server_id = output.metadata[EXEC_MIME_TYPE][\"server_id\"];\n",
              "    }\n",
              "  }\n",
              "\n",
              "  function register_renderer(events, OutputArea) {\n",
              "\n",
              "    function append_mime(data, metadata, element) {\n",
              "      // create a DOM node to render to\n",
              "      var toinsert = this.create_output_subarea(\n",
              "        metadata,\n",
              "        CLASS_NAME,\n",
              "        EXEC_MIME_TYPE\n",
              "      );\n",
              "      this.keyboard_manager.register_events(toinsert);\n",
              "      // Render to node\n",
              "      var props = {data: data, metadata: metadata[EXEC_MIME_TYPE]};\n",
              "      render(props, toinsert[toinsert.length - 1]);\n",
              "      element.append(toinsert);\n",
              "      return toinsert\n",
              "    }\n",
              "\n",
              "    /* Handle when an output is cleared or removed */\n",
              "    events.on('clear_output.CodeCell', handleClearOutput);\n",
              "    events.on('delete.Cell', handleClearOutput);\n",
              "\n",
              "    /* Handle when a new output is added */\n",
              "    events.on('output_added.OutputArea', handleAddOutput);\n",
              "\n",
              "    /**\n",
              "     * Register the mime type and append_mime function with output_area\n",
              "     */\n",
              "    OutputArea.prototype.register_mime_type(EXEC_MIME_TYPE, append_mime, {\n",
              "      /* Is output safe? */\n",
              "      safe: true,\n",
              "      /* Index of renderer in `output_area.display_order` */\n",
              "      index: 0\n",
              "    });\n",
              "  }\n",
              "\n",
              "  // register the mime type if in Jupyter Notebook environment and previously unregistered\n",
              "  if (root.Jupyter !== undefined) {\n",
              "    var events = require('base/js/events');\n",
              "    var OutputArea = require('notebook/js/outputarea').OutputArea;\n",
              "\n",
              "    if (OutputArea.prototype.mime_types().indexOf(EXEC_MIME_TYPE) == -1) {\n",
              "      register_renderer(events, OutputArea);\n",
              "    }\n",
              "  }\n",
              "\n",
              "  \n",
              "  if (typeof (root._bokeh_timeout) === \"undefined\" || force === true) {\n",
              "    root._bokeh_timeout = Date.now() + 5000;\n",
              "    root._bokeh_failed_load = false;\n",
              "  }\n",
              "\n",
              "  var NB_LOAD_WARNING = {'data': {'text/html':\n",
              "     \"<div style='background-color: #fdd'>\\n\"+\n",
              "     \"<p>\\n\"+\n",
              "     \"BokehJS does not appear to have successfully loaded. If loading BokehJS from CDN, this \\n\"+\n",
              "     \"may be due to a slow or bad network connection. Possible fixes:\\n\"+\n",
              "     \"</p>\\n\"+\n",
              "     \"<ul>\\n\"+\n",
              "     \"<li>re-rerun `output_notebook()` to attempt to load from CDN again, or</li>\\n\"+\n",
              "     \"<li>use INLINE resources instead, as so:</li>\\n\"+\n",
              "     \"</ul>\\n\"+\n",
              "     \"<code>\\n\"+\n",
              "     \"from bokeh.resources import INLINE\\n\"+\n",
              "     \"output_notebook(resources=INLINE)\\n\"+\n",
              "     \"</code>\\n\"+\n",
              "     \"</div>\"}};\n",
              "\n",
              "  function display_loaded() {\n",
              "    var el = document.getElementById(\"2676\");\n",
              "    if (el != null) {\n",
              "      el.textContent = \"BokehJS is loading...\";\n",
              "    }\n",
              "    if (root.Bokeh !== undefined) {\n",
              "      if (el != null) {\n",
              "        el.textContent = \"BokehJS \" + root.Bokeh.version + \" successfully loaded.\";\n",
              "      }\n",
              "    } else if (Date.now() < root._bokeh_timeout) {\n",
              "      setTimeout(display_loaded, 100)\n",
              "    }\n",
              "  }\n",
              "\n",
              "\n",
              "  function run_callbacks() {\n",
              "    try {\n",
              "      root._bokeh_onload_callbacks.forEach(function(callback) { callback() });\n",
              "    }\n",
              "    finally {\n",
              "      delete root._bokeh_onload_callbacks\n",
              "    }\n",
              "    console.info(\"Bokeh: all callbacks have finished\");\n",
              "  }\n",
              "\n",
              "  function load_libs(js_urls, callback) {\n",
              "    root._bokeh_onload_callbacks.push(callback);\n",
              "    if (root._bokeh_is_loading > 0) {\n",
              "      console.log(\"Bokeh: BokehJS is being loaded, scheduling callback at\", now());\n",
              "      return null;\n",
              "    }\n",
              "    if (js_urls == null || js_urls.length === 0) {\n",
              "      run_callbacks();\n",
              "      return null;\n",
              "    }\n",
              "    console.log(\"Bokeh: BokehJS not loaded, scheduling load and callback at\", now());\n",
              "    root._bokeh_is_loading = js_urls.length;\n",
              "    for (var i = 0; i < js_urls.length; i++) {\n",
              "      var url = js_urls[i];\n",
              "      var s = document.createElement('script');\n",
              "      s.src = url;\n",
              "      s.async = false;\n",
              "      s.onreadystatechange = s.onload = function() {\n",
              "        root._bokeh_is_loading--;\n",
              "        if (root._bokeh_is_loading === 0) {\n",
              "          console.log(\"Bokeh: all BokehJS libraries loaded\");\n",
              "          run_callbacks()\n",
              "        }\n",
              "      };\n",
              "      s.onerror = function() {\n",
              "        console.warn(\"failed to load library \" + url);\n",
              "      };\n",
              "      console.log(\"Bokeh: injecting script tag for BokehJS library: \", url);\n",
              "      document.getElementsByTagName(\"head\")[0].appendChild(s);\n",
              "    }\n",
              "  };var element = document.getElementById(\"2676\");\n",
              "  if (element == null) {\n",
              "    console.log(\"Bokeh: ERROR: autoload.js configured with elementid '2676' but no matching script tag was found. \")\n",
              "    return false;\n",
              "  }\n",
              "\n",
              "  var js_urls = [\"https://cdn.pydata.org/bokeh/release/bokeh-1.0.4.min.js\", \"https://cdn.pydata.org/bokeh/release/bokeh-widgets-1.0.4.min.js\", \"https://cdn.pydata.org/bokeh/release/bokeh-tables-1.0.4.min.js\", \"https://cdn.pydata.org/bokeh/release/bokeh-gl-1.0.4.min.js\"];\n",
              "\n",
              "  var inline_js = [\n",
              "    function(Bokeh) {\n",
              "      Bokeh.set_log_level(\"info\");\n",
              "    },\n",
              "    \n",
              "    function(Bokeh) {\n",
              "      \n",
              "    },\n",
              "    function(Bokeh) {\n",
              "      console.log(\"Bokeh: injecting CSS: https://cdn.pydata.org/bokeh/release/bokeh-1.0.4.min.css\");\n",
              "      Bokeh.embed.inject_css(\"https://cdn.pydata.org/bokeh/release/bokeh-1.0.4.min.css\");\n",
              "      console.log(\"Bokeh: injecting CSS: https://cdn.pydata.org/bokeh/release/bokeh-widgets-1.0.4.min.css\");\n",
              "      Bokeh.embed.inject_css(\"https://cdn.pydata.org/bokeh/release/bokeh-widgets-1.0.4.min.css\");\n",
              "      console.log(\"Bokeh: injecting CSS: https://cdn.pydata.org/bokeh/release/bokeh-tables-1.0.4.min.css\");\n",
              "      Bokeh.embed.inject_css(\"https://cdn.pydata.org/bokeh/release/bokeh-tables-1.0.4.min.css\");\n",
              "    }\n",
              "  ];\n",
              "\n",
              "  function run_inline_js() {\n",
              "    \n",
              "    if ((root.Bokeh !== undefined) || (force === true)) {\n",
              "      for (var i = 0; i < inline_js.length; i++) {\n",
              "        inline_js[i].call(root, root.Bokeh);\n",
              "      }if (force === true) {\n",
              "        display_loaded();\n",
              "      }} else if (Date.now() < root._bokeh_timeout) {\n",
              "      setTimeout(run_inline_js, 100);\n",
              "    } else if (!root._bokeh_failed_load) {\n",
              "      console.log(\"Bokeh: BokehJS failed to load within specified timeout.\");\n",
              "      root._bokeh_failed_load = true;\n",
              "    } else if (force !== true) {\n",
              "      var cell = $(document.getElementById(\"2676\")).parents('.cell').data().cell;\n",
              "      cell.output_area.append_execute_result(NB_LOAD_WARNING)\n",
              "    }\n",
              "\n",
              "  }\n",
              "\n",
              "  if (root._bokeh_is_loading === 0) {\n",
              "    console.log(\"Bokeh: BokehJS loaded, going straight to plotting\");\n",
              "    run_inline_js();\n",
              "  } else {\n",
              "    load_libs(js_urls, function() {\n",
              "      console.log(\"Bokeh: BokehJS plotting callback run at\", now());\n",
              "      run_inline_js();\n",
              "    });\n",
              "  }\n",
              "}(window));"
            ],
            "application/vnd.bokehjs_load.v0+json": "\n(function(root) {\n  function now() {\n    return new Date();\n  }\n\n  var force = true;\n\n  if (typeof (root._bokeh_onload_callbacks) === \"undefined\" || force === true) {\n    root._bokeh_onload_callbacks = [];\n    root._bokeh_is_loading = undefined;\n  }\n\n  \n\n  \n  if (typeof (root._bokeh_timeout) === \"undefined\" || force === true) {\n    root._bokeh_timeout = Date.now() + 5000;\n    root._bokeh_failed_load = false;\n  }\n\n  var NB_LOAD_WARNING = {'data': {'text/html':\n     \"<div style='background-color: #fdd'>\\n\"+\n     \"<p>\\n\"+\n     \"BokehJS does not appear to have successfully loaded. If loading BokehJS from CDN, this \\n\"+\n     \"may be due to a slow or bad network connection. Possible fixes:\\n\"+\n     \"</p>\\n\"+\n     \"<ul>\\n\"+\n     \"<li>re-rerun `output_notebook()` to attempt to load from CDN again, or</li>\\n\"+\n     \"<li>use INLINE resources instead, as so:</li>\\n\"+\n     \"</ul>\\n\"+\n     \"<code>\\n\"+\n     \"from bokeh.resources import INLINE\\n\"+\n     \"output_notebook(resources=INLINE)\\n\"+\n     \"</code>\\n\"+\n     \"</div>\"}};\n\n  function display_loaded() {\n    var el = document.getElementById(\"2676\");\n    if (el != null) {\n      el.textContent = \"BokehJS is loading...\";\n    }\n    if (root.Bokeh !== undefined) {\n      if (el != null) {\n        el.textContent = \"BokehJS \" + root.Bokeh.version + \" successfully loaded.\";\n      }\n    } else if (Date.now() < root._bokeh_timeout) {\n      setTimeout(display_loaded, 100)\n    }\n  }\n\n\n  function run_callbacks() {\n    try {\n      root._bokeh_onload_callbacks.forEach(function(callback) { callback() });\n    }\n    finally {\n      delete root._bokeh_onload_callbacks\n    }\n    console.info(\"Bokeh: all callbacks have finished\");\n  }\n\n  function load_libs(js_urls, callback) {\n    root._bokeh_onload_callbacks.push(callback);\n    if (root._bokeh_is_loading > 0) {\n      console.log(\"Bokeh: BokehJS is being loaded, scheduling callback at\", now());\n      return null;\n    }\n    if (js_urls == null || js_urls.length === 0) {\n      run_callbacks();\n      return null;\n    }\n    console.log(\"Bokeh: BokehJS not loaded, scheduling load and callback at\", now());\n    root._bokeh_is_loading = js_urls.length;\n    for (var i = 0; i < js_urls.length; i++) {\n      var url = js_urls[i];\n      var s = document.createElement('script');\n      s.src = url;\n      s.async = false;\n      s.onreadystatechange = s.onload = function() {\n        root._bokeh_is_loading--;\n        if (root._bokeh_is_loading === 0) {\n          console.log(\"Bokeh: all BokehJS libraries loaded\");\n          run_callbacks()\n        }\n      };\n      s.onerror = function() {\n        console.warn(\"failed to load library \" + url);\n      };\n      console.log(\"Bokeh: injecting script tag for BokehJS library: \", url);\n      document.getElementsByTagName(\"head\")[0].appendChild(s);\n    }\n  };var element = document.getElementById(\"2676\");\n  if (element == null) {\n    console.log(\"Bokeh: ERROR: autoload.js configured with elementid '2676' but no matching script tag was found. \")\n    return false;\n  }\n\n  var js_urls = [\"https://cdn.pydata.org/bokeh/release/bokeh-1.0.4.min.js\", \"https://cdn.pydata.org/bokeh/release/bokeh-widgets-1.0.4.min.js\", \"https://cdn.pydata.org/bokeh/release/bokeh-tables-1.0.4.min.js\", \"https://cdn.pydata.org/bokeh/release/bokeh-gl-1.0.4.min.js\"];\n\n  var inline_js = [\n    function(Bokeh) {\n      Bokeh.set_log_level(\"info\");\n    },\n    \n    function(Bokeh) {\n      \n    },\n    function(Bokeh) {\n      console.log(\"Bokeh: injecting CSS: https://cdn.pydata.org/bokeh/release/bokeh-1.0.4.min.css\");\n      Bokeh.embed.inject_css(\"https://cdn.pydata.org/bokeh/release/bokeh-1.0.4.min.css\");\n      console.log(\"Bokeh: injecting CSS: https://cdn.pydata.org/bokeh/release/bokeh-widgets-1.0.4.min.css\");\n      Bokeh.embed.inject_css(\"https://cdn.pydata.org/bokeh/release/bokeh-widgets-1.0.4.min.css\");\n      console.log(\"Bokeh: injecting CSS: https://cdn.pydata.org/bokeh/release/bokeh-tables-1.0.4.min.css\");\n      Bokeh.embed.inject_css(\"https://cdn.pydata.org/bokeh/release/bokeh-tables-1.0.4.min.css\");\n    }\n  ];\n\n  function run_inline_js() {\n    \n    if ((root.Bokeh !== undefined) || (force === true)) {\n      for (var i = 0; i < inline_js.length; i++) {\n        inline_js[i].call(root, root.Bokeh);\n      }if (force === true) {\n        display_loaded();\n      }} else if (Date.now() < root._bokeh_timeout) {\n      setTimeout(run_inline_js, 100);\n    } else if (!root._bokeh_failed_load) {\n      console.log(\"Bokeh: BokehJS failed to load within specified timeout.\");\n      root._bokeh_failed_load = true;\n    } else if (force !== true) {\n      var cell = $(document.getElementById(\"2676\")).parents('.cell').data().cell;\n      cell.output_area.append_execute_result(NB_LOAD_WARNING)\n    }\n\n  }\n\n  if (root._bokeh_is_loading === 0) {\n    console.log(\"Bokeh: BokehJS loaded, going straight to plotting\");\n    run_inline_js();\n  } else {\n    load_libs(js_urls, function() {\n      console.log(\"Bokeh: BokehJS plotting callback run at\", now());\n      run_inline_js();\n    });\n  }\n}(window));"
          },
          "metadata": {
            "tags": []
          }
        },
        {
          "output_type": "display_data",
          "data": {
            "text/html": [
              "\n",
              "\n",
              "\n",
              "\n",
              "\n",
              "\n",
              "  <div class=\"bk-root\" id=\"a72fc833-a2c2-4d53-99e4-9f8e7e2157d9\" data-root-id=\"2678\"></div>\n"
            ]
          },
          "metadata": {
            "tags": []
          }
        },
        {
          "output_type": "display_data",
          "data": {
            "application/javascript": [
              "(function(root) {\n",
              "  function embed_document(root) {\n",
              "    \n",
              "  var docs_json = {\"8f7232a1-8fea-4747-b65b-26de8da00a61\":{\"roots\":{\"references\":[{\"attributes\":{\"below\":[{\"id\":\"2688\",\"type\":\"LinearAxis\"}],\"left\":[{\"id\":\"2693\",\"type\":\"LinearAxis\"}],\"renderers\":[{\"id\":\"2688\",\"type\":\"LinearAxis\"},{\"id\":\"2692\",\"type\":\"Grid\"},{\"id\":\"2693\",\"type\":\"LinearAxis\"},{\"id\":\"2697\",\"type\":\"Grid\"},{\"id\":\"2710\",\"type\":\"GlyphRenderer\"}],\"title\":{\"id\":\"2677\",\"type\":\"Title\"},\"toolbar\":{\"id\":\"2702\",\"type\":\"Toolbar\"},\"toolbar_location\":\"above\",\"x_range\":{\"id\":\"2680\",\"type\":\"DataRange1d\"},\"x_scale\":{\"id\":\"2684\",\"type\":\"LinearScale\"},\"y_range\":{\"id\":\"2682\",\"type\":\"DataRange1d\"},\"y_scale\":{\"id\":\"2686\",\"type\":\"LinearScale\"}},\"id\":\"2678\",\"subtype\":\"Figure\",\"type\":\"Plot\"},{\"attributes\":{},\"id\":\"2686\",\"type\":\"LinearScale\"},{\"attributes\":{},\"id\":\"2808\",\"type\":\"UnionRenderers\"},{\"attributes\":{},\"id\":\"2699\",\"type\":\"WheelZoomTool\"},{\"attributes\":{\"plot\":{\"id\":\"2678\",\"subtype\":\"Figure\",\"type\":\"Plot\"},\"ticker\":{\"id\":\"2689\",\"type\":\"BasicTicker\"}},\"id\":\"2692\",\"type\":\"Grid\"},{\"attributes\":{},\"id\":\"2694\",\"type\":\"BasicTicker\"},{\"attributes\":{},\"id\":\"2698\",\"type\":\"PanTool\"},{\"attributes\":{\"data_source\":{\"id\":\"2707\",\"type\":\"ColumnDataSource\"},\"glyph\":{\"id\":\"2708\",\"type\":\"Quad\"},\"hover_glyph\":null,\"muted_glyph\":null,\"nonselection_glyph\":{\"id\":\"2709\",\"type\":\"Quad\"},\"selection_glyph\":null,\"view\":{\"id\":\"2711\",\"type\":\"CDSView\"}},\"id\":\"2710\",\"type\":\"GlyphRenderer\"},{\"attributes\":{},\"id\":\"2684\",\"type\":\"LinearScale\"},{\"attributes\":{},\"id\":\"2701\",\"type\":\"SaveTool\"},{\"attributes\":{\"plot\":null,\"text\":\"Top-1000 words distribution\"},\"id\":\"2677\",\"type\":\"Title\"},{\"attributes\":{\"active_drag\":\"auto\",\"active_inspect\":\"auto\",\"active_multi\":null,\"active_scroll\":\"auto\",\"active_tap\":\"auto\",\"tools\":[{\"id\":\"2698\",\"type\":\"PanTool\"},{\"id\":\"2699\",\"type\":\"WheelZoomTool\"},{\"id\":\"2700\",\"type\":\"ResetTool\"},{\"id\":\"2701\",\"type\":\"SaveTool\"}]},\"id\":\"2702\",\"type\":\"Toolbar\"},{\"attributes\":{\"source\":{\"id\":\"2707\",\"type\":\"ColumnDataSource\"}},\"id\":\"2711\",\"type\":\"CDSView\"},{\"attributes\":{},\"id\":\"2806\",\"type\":\"BasicTickFormatter\"},{\"attributes\":{},\"id\":\"2689\",\"type\":\"BasicTicker\"},{\"attributes\":{\"callback\":null},\"id\":\"2682\",\"type\":\"DataRange1d\"},{\"attributes\":{\"bottom\":{\"value\":0},\"fill_alpha\":{\"value\":0.1},\"fill_color\":{\"value\":\"#1f77b4\"},\"left\":{\"field\":\"left\"},\"line_alpha\":{\"value\":0.1},\"line_color\":{\"value\":\"#1f77b4\"},\"right\":{\"field\":\"right\"},\"top\":{\"field\":\"top\"}},\"id\":\"2709\",\"type\":\"Quad\"},{\"attributes\":{\"formatter\":{\"id\":\"2804\",\"type\":\"BasicTickFormatter\"},\"plot\":{\"id\":\"2678\",\"subtype\":\"Figure\",\"type\":\"Plot\"},\"ticker\":{\"id\":\"2689\",\"type\":\"BasicTicker\"}},\"id\":\"2688\",\"type\":\"LinearAxis\"},{\"attributes\":{},\"id\":\"2700\",\"type\":\"ResetTool\"},{\"attributes\":{\"formatter\":{\"id\":\"2806\",\"type\":\"BasicTickFormatter\"},\"plot\":{\"id\":\"2678\",\"subtype\":\"Figure\",\"type\":\"Plot\"},\"ticker\":{\"id\":\"2694\",\"type\":\"BasicTicker\"}},\"id\":\"2693\",\"type\":\"LinearAxis\"},{\"attributes\":{},\"id\":\"2804\",\"type\":\"BasicTickFormatter\"},{\"attributes\":{},\"id\":\"2809\",\"type\":\"Selection\"},{\"attributes\":{\"bottom\":{\"value\":0},\"fill_color\":{\"value\":\"#1f77b4\"},\"left\":{\"field\":\"left\"},\"line_color\":{\"value\":\"#555555\"},\"right\":{\"field\":\"right\"},\"top\":{\"field\":\"top\"}},\"id\":\"2708\",\"type\":\"Quad\"},{\"attributes\":{\"callback\":null,\"data\":{\"left\":{\"__ndarray__\":\"AAAAAABAeUB7FK5H4VqjQHsUrkfhxrFAuB6F61HguUB7FK5H4fzAQJqZmZmZCcVAuB6F61EWyUDXo3A9CiPNQHsUrkfhl9BACtejcD2e0kCamZmZmaTUQClcj8L1qtZAuB6F61Gx2EBI4XoUrrfaQNejcD0KvtxAZ2ZmZmbE3kB7FK5HYWXgQMP1KFyPaOFACtejcL1r4kBSuB6F627jQJqZmZkZcuRA4XoUrkd15UApXI/CdXjmQHE9Cteje+dAuB6F69F+6EAAAAAAAILpQEjhehQuhepAkML1KFyI60DXo3A9iovsQB+F61G4ju1AZ2ZmZuaR7kCuR+F6FJXvQHsUrkchTPBAH4XrUbjN8EDD9ShcT0/xQGdmZmbm0PFACtejcH1S8kCuR+F6FNTyQFK4HoWrVfNA9ihcj0LX80CamZmZ2Vj0QD4K16Nw2vRA4XoUrgdc9UCF61G4nt31QClcj8I1X/ZAzczMzMzg9kBxPQrXY2L3QBWuR+H64/dAuB6F65Fl+EBcj8L1KOf4QAAAAADAaPlApHA9Clfq+UBI4XoU7mv6QOxRuB6F7fpAkML1KBxv+0AzMzMzs/D7QNejcD1KcvxAexSuR+Hz/EAfhetReHX9QMP1KFwP9/1AZ2ZmZqZ4/kAK16NwPfr+QK5H4XrUe/9AUrgehWv9/0B7FK5HgT8AQc3MzMxMgABBH4XrURjBAEFxPQrX4wEBQcP1KFyvQgFBFa5H4XqDAUFnZmZmRsQBQbgehesRBQJBCtejcN1FAkFcj8L1qIYCQa5H4Xp0xwJBAAAAAEAIA0FSuB6FC0kDQaRwPQrXiQNB9ihcj6LKA0FI4XoUbgsEQZqZmZk5TARB7FG4HgWNBEE+Ctej0M0EQZDC9SicDgVB4XoUrmdPBUEzMzMzM5AFQYXrUbj+0AVB16NwPcoRBkEpXI/ClVIGQXsUrkdhkwZBzczMzCzUBkEfhetR+BQHQXE9CtfDVQdBw/UoXI+WB0EVrkfhWtcHQWdmZmYmGAhBuB6F6/FYCEEK16NwvZkIQVyPwvWI2ghBrkfhelQbCUE=\",\"dtype\":\"float64\",\"shape\":[100]},\"right\":{\"__ndarray__\":\"exSuR+Fao0B7FK5H4caxQLgehetR4LlAexSuR+H8wECamZmZmQnFQLgehetRFslA16NwPQojzUB7FK5H4ZfQQArXo3A9ntJAmpmZmZmk1EApXI/C9arWQLgehetRsdhASOF6FK632kDXo3A9Cr7cQGdmZmZmxN5AexSuR2Fl4EDD9Shcj2jhQArXo3C9a+JAUrgehetu40CamZmZGXLkQOF6FK5HdeVAKVyPwnV45kBxPQrXo3vnQLgehevRfuhAAAAAAACC6UBI4XoULoXqQJDC9ShciOtA16NwPYqL7EAfhetRuI7tQGdmZmbmke5ArkfhehSV70B7FK5HIUzwQB+F61G4zfBAw/UoXE9P8UBnZmZm5tDxQArXo3B9UvJArkfhehTU8kBSuB6Fq1XzQPYoXI9C1/NAmpmZmdlY9EA+CtejcNr0QOF6FK4HXPVAhetRuJ7d9UApXI/CNV/2QM3MzMzM4PZAcT0K12Ni90AVrkfh+uP3QLgeheuRZfhAXI/C9Sjn+EAAAAAAwGj5QKRwPQpX6vlASOF6FO5r+kDsUbgehe36QJDC9Sgcb/tAMzMzM7Pw+0DXo3A9SnL8QHsUrkfh8/xAH4XrUXh1/UDD9ShcD/f9QGdmZmameP5ACtejcD36/kCuR+F61Hv/QFK4HoVr/f9AexSuR4E/AEHNzMzMTIAAQR+F61EYwQBBcT0K1+MBAUHD9Shcr0IBQRWuR+F6gwFBZ2ZmZkbEAUG4HoXrEQUCQQrXo3DdRQJBXI/C9aiGAkGuR+F6dMcCQQAAAABACANBUrgehQtJA0GkcD0K14kDQfYoXI+iygNBSOF6FG4LBEGamZmZOUwEQexRuB4FjQRBPgrXo9DNBEGQwvUonA4FQeF6FK5nTwVBMzMzMzOQBUGF61G4/tAFQdejcD3KEQZBKVyPwpVSBkF7FK5HYZMGQc3MzMws1AZBH4XrUfgUB0FxPQrXw1UHQcP1KFyPlgdBFa5H4VrXB0FnZmZmJhgIQbgehevxWAhBCtejcL2ZCEFcj8L1iNoIQa5H4XpUGwlBAAAAACBcCUE=\",\"dtype\":\"float64\",\"shape\":[100]},\"top\":{\"__ndarray__\":\"50H1zNSBOT/ypb1tgHIBPwsriUb5Uew+zuTFiLI04j78kGUPxTHhPh40R25oQNY+zuTFiLI00j4pPQWW1y7APsTbB2FDRsg+JT0FltcuwD4tPQWW1y6wPi09BZbXLrA+JT0FltcuwD4tPQWW1y6gPiU9BZbXLrA+LT0FltcuoD4AAAAAAAAAADU9BZbXLqA+AAAAAAAAAAAAAAAAAAAAAAAAAAAAAAAAAAAAAAAAAAAAAAAAAAAAADU9BZbXLqA+AAAAAAAAAAAAAAAAAAAAAAAAAAAAAAAANT0FltcuoD4AAAAAAAAAAAAAAAAAAAAANT0FltcuoD4AAAAAAAAAACU9BZbXLqA+AAAAAAAAAAAlPQWW1y6gPkU9BZbXLqA+AAAAAAAAAAAlPQWW1y6gPgAAAAAAAAAAJT0FltcuoD4AAAAAAAAAAAAAAAAAAAAAAAAAAAAAAAAAAAAAAAAAAAAAAAAAAAAAJT0FltcuoD4AAAAAAAAAAAAAAAAAAAAAAAAAAAAAAAAAAAAAAAAAACU9BZbXLqA+AAAAAAAAAAAAAAAAAAAAAAAAAAAAAAAAAAAAAAAAAAAlPQWW1y6gPgAAAAAAAAAAAAAAAAAAAAAAAAAAAAAAAAAAAAAAAAAART0FltcuoD4AAAAAAAAAAAAAAAAAAAAAAAAAAAAAAAAAAAAAAAAAAAAAAAAAAAAAAAAAAAAAAAAAAAAAAAAAAAAAAAAAAAAAAAAAAAAAAAAAAAAAAAAAACU9BZbXLqA+AAAAAAAAAAAAAAAAAAAAAAAAAAAAAAAAAAAAAAAAAAAAAAAAAAAAAAAAAAAAAAAAAAAAAAAAAAAAAAAAAAAAAAAAAAAAAAAAAAAAAAAAAAAAAAAAAAAAAAAAAAAAAAAAAAAAAAAAAAAAAAAAAAAAAAAAAAAAAAAAAAAAAAAAAAAAAAAAAAAAAAAAAAAAAAAAAAAAAAAAAAAAAAAAAAAAAAAAAAAAAAAAAAAAAAAAAAAAAAAAAAAAAAAAAAAAAAAAAAAAAAAAAAAAAAAAAAAAAAAAAAAAAAAAJT0FltcuoD4=\",\"dtype\":\"float64\",\"shape\":[100]}},\"selected\":{\"id\":\"2809\",\"type\":\"Selection\"},\"selection_policy\":{\"id\":\"2808\",\"type\":\"UnionRenderers\"}},\"id\":\"2707\",\"type\":\"ColumnDataSource\"},{\"attributes\":{\"dimension\":1,\"plot\":{\"id\":\"2678\",\"subtype\":\"Figure\",\"type\":\"Plot\"},\"ticker\":{\"id\":\"2694\",\"type\":\"BasicTicker\"}},\"id\":\"2697\",\"type\":\"Grid\"},{\"attributes\":{\"callback\":null},\"id\":\"2680\",\"type\":\"DataRange1d\"}],\"root_ids\":[\"2678\"]},\"title\":\"Bokeh Application\",\"version\":\"1.0.4\"}};\n",
              "  var render_items = [{\"docid\":\"8f7232a1-8fea-4747-b65b-26de8da00a61\",\"roots\":{\"2678\":\"a72fc833-a2c2-4d53-99e4-9f8e7e2157d9\"}}];\n",
              "  root.Bokeh.embed.embed_items_notebook(docs_json, render_items);\n",
              "\n",
              "  }\n",
              "  if (root.Bokeh !== undefined) {\n",
              "    embed_document(root);\n",
              "  } else {\n",
              "    var attempts = 0;\n",
              "    var timer = setInterval(function(root) {\n",
              "      if (root.Bokeh !== undefined) {\n",
              "        embed_document(root);\n",
              "        clearInterval(timer);\n",
              "      }\n",
              "      attempts++;\n",
              "      if (attempts > 100) {\n",
              "        console.log(\"Bokeh: ERROR: Unable to run BokehJS code because BokehJS library is missing\");\n",
              "        clearInterval(timer);\n",
              "      }\n",
              "    }, 10, root)\n",
              "  }\n",
              "})(window);"
            ],
            "application/vnd.bokehjs_exec.v0+json": ""
          },
          "metadata": {
            "tags": [],
            "application/vnd.bokehjs_exec.v0+json": {
              "id": "2678"
            }
          }
        }
      ]
    },
    {
      "metadata": {
        "id": "jsxP6kpescrK",
        "colab_type": "text"
      },
      "cell_type": "markdown",
      "source": [
        "### Part 3: Train Word2Vec"
      ]
    },
    {
      "metadata": {
        "id": "MNANxZMbscrL",
        "colab_type": "code",
        "colab": {}
      },
      "cell_type": "code",
      "source": [
        "from gensim.models import Word2Vec"
      ],
      "execution_count": 0,
      "outputs": []
    },
    {
      "metadata": {
        "id": "jPMCf57escrN",
        "colab_type": "code",
        "colab": {}
      },
      "cell_type": "code",
      "source": [
        "model_ted = Word2Vec(sentences_ted, size=100, window=5, min_count=1, workers=4)"
      ],
      "execution_count": 0,
      "outputs": []
    },
    {
      "metadata": {
        "id": "8T2QgVOqscrP",
        "colab_type": "text"
      },
      "cell_type": "markdown",
      "source": [
        "### Part 4: Ted Learnt Representations"
      ]
    },
    {
      "metadata": {
        "id": "buurnmLJscrQ",
        "colab_type": "text"
      },
      "cell_type": "markdown",
      "source": [
        "Finding similar words: (see gensim docs for more functionality of `most_similar`)"
      ]
    },
    {
      "metadata": {
        "id": "hAgBcfOHscrR",
        "colab_type": "code",
        "outputId": "18018a40-64ef-459b-f516-6cc9e09008dc",
        "colab": {
          "base_uri": "https://localhost:8080/",
          "height": 253
        }
      },
      "cell_type": "code",
      "source": [
        "model_ted.wv.most_similar(\"man\")"
      ],
      "execution_count": 0,
      "outputs": [
        {
          "output_type": "stream",
          "text": [
            "/usr/local/lib/python3.6/dist-packages/gensim/matutils.py:737: FutureWarning: Conversion of the second argument of issubdtype from `int` to `np.signedinteger` is deprecated. In future, it will be treated as `np.int64 == np.dtype(int).type`.\n",
            "  if np.issubdtype(vec.dtype, np.int):\n"
          ],
          "name": "stderr"
        },
        {
          "output_type": "execute_result",
          "data": {
            "text/plain": [
              "[('woman', 0.8487130403518677),\n",
              " ('guy', 0.8167091012001038),\n",
              " ('lady', 0.7809466123580933),\n",
              " ('girl', 0.7721682786941528),\n",
              " ('soldier', 0.7537262439727783),\n",
              " ('boy', 0.742577314376831),\n",
              " ('gentleman', 0.7153583765029907),\n",
              " ('kid', 0.7065638303756714),\n",
              " ('friend', 0.6727961301803589),\n",
              " ('poet', 0.6702505946159363)]"
            ]
          },
          "metadata": {
            "tags": []
          },
          "execution_count": 154
        }
      ]
    },
    {
      "metadata": {
        "id": "hT4q2vviscrT",
        "colab_type": "code",
        "outputId": "267b4420-e924-4213-ce84-e64cc6b10baf",
        "colab": {
          "base_uri": "https://localhost:8080/",
          "height": 253
        }
      },
      "cell_type": "code",
      "source": [
        "model_ted.wv.most_similar(\"computer\")"
      ],
      "execution_count": 0,
      "outputs": [
        {
          "output_type": "stream",
          "text": [
            "/usr/local/lib/python3.6/dist-packages/gensim/matutils.py:737: FutureWarning: Conversion of the second argument of issubdtype from `int` to `np.signedinteger` is deprecated. In future, it will be treated as `np.int64 == np.dtype(int).type`.\n",
            "  if np.issubdtype(vec.dtype, np.int):\n"
          ],
          "name": "stderr"
        },
        {
          "output_type": "execute_result",
          "data": {
            "text/plain": [
              "[('machine', 0.7513668537139893),\n",
              " ('software', 0.7434959411621094),\n",
              " ('robot', 0.6930254697799683),\n",
              " ('3d', 0.6911846399307251),\n",
              " ('program', 0.6888371706008911),\n",
              " ('device', 0.6695933938026428),\n",
              " ('interface', 0.6530139446258545),\n",
              " ('printer', 0.652542769908905),\n",
              " ('simulation', 0.6381321549415588),\n",
              " ('mechanical', 0.622725248336792)]"
            ]
          },
          "metadata": {
            "tags": []
          },
          "execution_count": 155
        }
      ]
    },
    {
      "metadata": {
        "id": "du4ln-EbscrW",
        "colab_type": "code",
        "outputId": "eebb1920-c212-43b0-9c22-a72106e5930d",
        "colab": {
          "base_uri": "https://localhost:8080/",
          "height": 253
        }
      },
      "cell_type": "code",
      "source": [
        "model_ted.wv.most_similar(\"paris\")"
      ],
      "execution_count": 0,
      "outputs": [
        {
          "output_type": "stream",
          "text": [
            "/usr/local/lib/python3.6/dist-packages/gensim/matutils.py:737: FutureWarning: Conversion of the second argument of issubdtype from `int` to `np.signedinteger` is deprecated. In future, it will be treated as `np.int64 == np.dtype(int).type`.\n",
            "  if np.issubdtype(vec.dtype, np.int):\n"
          ],
          "name": "stderr"
        },
        {
          "output_type": "execute_result",
          "data": {
            "text/plain": [
              "[('beijing', 0.8725643157958984),\n",
              " ('london', 0.8718177080154419),\n",
              " ('spain', 0.8575149178504944),\n",
              " ('philadelphia', 0.8544884324073792),\n",
              " ('2004', 0.8507333993911743),\n",
              " ('chicago', 0.850620687007904),\n",
              " ('1990', 0.8391937017440796),\n",
              " ('mexico', 0.8379186987876892),\n",
              " ('boston', 0.8367838859558105),\n",
              " ('italy', 0.8366172909736633)]"
            ]
          },
          "metadata": {
            "tags": []
          },
          "execution_count": 156
        }
      ]
    },
    {
      "metadata": {
        "id": "vgzltCR1scrZ",
        "colab_type": "code",
        "outputId": "0db551ac-a5c5-4543-83a7-e6fe2313d4eb",
        "colab": {
          "base_uri": "https://localhost:8080/",
          "height": 253
        }
      },
      "cell_type": "code",
      "source": [
        "\n",
        "\n",
        "model_ted.wv.most_similar(\"telecom\")"
      ],
      "execution_count": 0,
      "outputs": [
        {
          "output_type": "stream",
          "text": [
            "/usr/local/lib/python3.6/dist-packages/gensim/matutils.py:737: FutureWarning: Conversion of the second argument of issubdtype from `int` to `np.signedinteger` is deprecated. In future, it will be treated as `np.int64 == np.dtype(int).type`.\n",
            "  if np.issubdtype(vec.dtype, np.int):\n"
          ],
          "name": "stderr"
        },
        {
          "output_type": "execute_result",
          "data": {
            "text/plain": [
              "[('somali', 0.9131984710693359),\n",
              " ('observatory', 0.9021382927894592),\n",
              " ('refinery', 0.8939228653907776),\n",
              " ('kruger', 0.8896456956863403),\n",
              " ('perez', 0.8845803737640381),\n",
              " ('dictator', 0.8821113705635071),\n",
              " ('tipped', 0.8810211420059204),\n",
              " ('augugliaro', 0.8804455995559692),\n",
              " ('subclinical', 0.8794452548027039),\n",
              " ('manger', 0.8793189525604248)]"
            ]
          },
          "metadata": {
            "tags": []
          },
          "execution_count": 157
        }
      ]
    },
    {
      "metadata": {
        "id": "BVAYKOyUscrc",
        "colab_type": "text"
      },
      "cell_type": "markdown",
      "source": [
        "#### t-SNE visualization\n",
        "To use the t-SNE code below, first put a list of the top 1000 words (as strings) into a variable `words_top_ted`. The following code gets the corresponding vectors from the model, assuming it's called `model_ted`:"
      ]
    },
    {
      "metadata": {
        "id": "zjPcGJnBscrd",
        "colab_type": "code",
        "colab": {}
      },
      "cell_type": "code",
      "source": [
        "# This assumes words_top_ted is a list of strings, the top 1000 words\n",
        "words_top_vec_ted = model_ted.wv[words_top_ted]"
      ],
      "execution_count": 0,
      "outputs": []
    },
    {
      "metadata": {
        "id": "8RlUE9ECscrh",
        "colab_type": "code",
        "colab": {}
      },
      "cell_type": "code",
      "source": [
        "\n",
        "\n",
        "from sklearn.manifold import TSNE\n",
        "tsne = TSNE(n_components=2, random_state=0)\n",
        "words_top_ted_tsne = tsne.fit_transform(words_top_vec_ted)"
      ],
      "execution_count": 0,
      "outputs": []
    },
    {
      "metadata": {
        "id": "-3vEQQWqscrj",
        "colab_type": "code",
        "outputId": "aeb21021-ee47-4ede-dfc1-8381da7776af",
        "colab": {
          "base_uri": "https://localhost:8080/",
          "height": 647
        }
      },
      "cell_type": "code",
      "source": [
        "output_notebook()\n",
        "p = figure(tools=\"pan,wheel_zoom,reset,save\",\n",
        "           toolbar_location=\"above\",\n",
        "           title=\"word2vec T-SNE for most common words\")\n",
        "\n",
        "source = ColumnDataSource(data=dict(x1=words_top_ted_tsne[:,0],\n",
        "                                    x2=words_top_ted_tsne[:,1],\n",
        "                                    names=words_top_ted))\n",
        "\n",
        "p.scatter(x=\"x1\", y=\"x2\", size=8, source=source)\n",
        "\n",
        "labels = LabelSet(x=\"x1\", y=\"x2\", text=\"names\", y_offset=6,\n",
        "                  text_font_size=\"8pt\", text_color=\"#555555\",\n",
        "                  source=source, text_align='center')\n",
        "p.add_layout(labels)\n",
        "\n",
        "show(p)"
      ],
      "execution_count": 0,
      "outputs": [
        {
          "output_type": "display_data",
          "data": {
            "text/html": [
              "\n",
              "    <div class=\"bk-root\">\n",
              "        <a href=\"https://bokeh.pydata.org\" target=\"_blank\" class=\"bk-logo bk-logo-small bk-logo-notebook\"></a>\n",
              "        <span id=\"2504\">Loading BokehJS ...</span>\n",
              "    </div>"
            ]
          },
          "metadata": {
            "tags": []
          }
        },
        {
          "output_type": "display_data",
          "data": {
            "application/javascript": [
              "\n",
              "(function(root) {\n",
              "  function now() {\n",
              "    return new Date();\n",
              "  }\n",
              "\n",
              "  var force = true;\n",
              "\n",
              "  if (typeof (root._bokeh_onload_callbacks) === \"undefined\" || force === true) {\n",
              "    root._bokeh_onload_callbacks = [];\n",
              "    root._bokeh_is_loading = undefined;\n",
              "  }\n",
              "\n",
              "  var JS_MIME_TYPE = 'application/javascript';\n",
              "  var HTML_MIME_TYPE = 'text/html';\n",
              "  var EXEC_MIME_TYPE = 'application/vnd.bokehjs_exec.v0+json';\n",
              "  var CLASS_NAME = 'output_bokeh rendered_html';\n",
              "\n",
              "  /**\n",
              "   * Render data to the DOM node\n",
              "   */\n",
              "  function render(props, node) {\n",
              "    var script = document.createElement(\"script\");\n",
              "    node.appendChild(script);\n",
              "  }\n",
              "\n",
              "  /**\n",
              "   * Handle when an output is cleared or removed\n",
              "   */\n",
              "  function handleClearOutput(event, handle) {\n",
              "    var cell = handle.cell;\n",
              "\n",
              "    var id = cell.output_area._bokeh_element_id;\n",
              "    var server_id = cell.output_area._bokeh_server_id;\n",
              "    // Clean up Bokeh references\n",
              "    if (id != null && id in Bokeh.index) {\n",
              "      Bokeh.index[id].model.document.clear();\n",
              "      delete Bokeh.index[id];\n",
              "    }\n",
              "\n",
              "    if (server_id !== undefined) {\n",
              "      // Clean up Bokeh references\n",
              "      var cmd = \"from bokeh.io.state import curstate; print(curstate().uuid_to_server['\" + server_id + \"'].get_sessions()[0].document.roots[0]._id)\";\n",
              "      cell.notebook.kernel.execute(cmd, {\n",
              "        iopub: {\n",
              "          output: function(msg) {\n",
              "            var id = msg.content.text.trim();\n",
              "            if (id in Bokeh.index) {\n",
              "              Bokeh.index[id].model.document.clear();\n",
              "              delete Bokeh.index[id];\n",
              "            }\n",
              "          }\n",
              "        }\n",
              "      });\n",
              "      // Destroy server and session\n",
              "      var cmd = \"import bokeh.io.notebook as ion; ion.destroy_server('\" + server_id + \"')\";\n",
              "      cell.notebook.kernel.execute(cmd);\n",
              "    }\n",
              "  }\n",
              "\n",
              "  /**\n",
              "   * Handle when a new output is added\n",
              "   */\n",
              "  function handleAddOutput(event, handle) {\n",
              "    var output_area = handle.output_area;\n",
              "    var output = handle.output;\n",
              "\n",
              "    // limit handleAddOutput to display_data with EXEC_MIME_TYPE content only\n",
              "    if ((output.output_type != \"display_data\") || (!output.data.hasOwnProperty(EXEC_MIME_TYPE))) {\n",
              "      return\n",
              "    }\n",
              "\n",
              "    var toinsert = output_area.element.find(\".\" + CLASS_NAME.split(' ')[0]);\n",
              "\n",
              "    if (output.metadata[EXEC_MIME_TYPE][\"id\"] !== undefined) {\n",
              "      toinsert[toinsert.length - 1].firstChild.textContent = output.data[JS_MIME_TYPE];\n",
              "      // store reference to embed id on output_area\n",
              "      output_area._bokeh_element_id = output.metadata[EXEC_MIME_TYPE][\"id\"];\n",
              "    }\n",
              "    if (output.metadata[EXEC_MIME_TYPE][\"server_id\"] !== undefined) {\n",
              "      var bk_div = document.createElement(\"div\");\n",
              "      bk_div.innerHTML = output.data[HTML_MIME_TYPE];\n",
              "      var script_attrs = bk_div.children[0].attributes;\n",
              "      for (var i = 0; i < script_attrs.length; i++) {\n",
              "        toinsert[toinsert.length - 1].firstChild.setAttribute(script_attrs[i].name, script_attrs[i].value);\n",
              "      }\n",
              "      // store reference to server id on output_area\n",
              "      output_area._bokeh_server_id = output.metadata[EXEC_MIME_TYPE][\"server_id\"];\n",
              "    }\n",
              "  }\n",
              "\n",
              "  function register_renderer(events, OutputArea) {\n",
              "\n",
              "    function append_mime(data, metadata, element) {\n",
              "      // create a DOM node to render to\n",
              "      var toinsert = this.create_output_subarea(\n",
              "        metadata,\n",
              "        CLASS_NAME,\n",
              "        EXEC_MIME_TYPE\n",
              "      );\n",
              "      this.keyboard_manager.register_events(toinsert);\n",
              "      // Render to node\n",
              "      var props = {data: data, metadata: metadata[EXEC_MIME_TYPE]};\n",
              "      render(props, toinsert[toinsert.length - 1]);\n",
              "      element.append(toinsert);\n",
              "      return toinsert\n",
              "    }\n",
              "\n",
              "    /* Handle when an output is cleared or removed */\n",
              "    events.on('clear_output.CodeCell', handleClearOutput);\n",
              "    events.on('delete.Cell', handleClearOutput);\n",
              "\n",
              "    /* Handle when a new output is added */\n",
              "    events.on('output_added.OutputArea', handleAddOutput);\n",
              "\n",
              "    /**\n",
              "     * Register the mime type and append_mime function with output_area\n",
              "     */\n",
              "    OutputArea.prototype.register_mime_type(EXEC_MIME_TYPE, append_mime, {\n",
              "      /* Is output safe? */\n",
              "      safe: true,\n",
              "      /* Index of renderer in `output_area.display_order` */\n",
              "      index: 0\n",
              "    });\n",
              "  }\n",
              "\n",
              "  // register the mime type if in Jupyter Notebook environment and previously unregistered\n",
              "  if (root.Jupyter !== undefined) {\n",
              "    var events = require('base/js/events');\n",
              "    var OutputArea = require('notebook/js/outputarea').OutputArea;\n",
              "\n",
              "    if (OutputArea.prototype.mime_types().indexOf(EXEC_MIME_TYPE) == -1) {\n",
              "      register_renderer(events, OutputArea);\n",
              "    }\n",
              "  }\n",
              "\n",
              "  \n",
              "  if (typeof (root._bokeh_timeout) === \"undefined\" || force === true) {\n",
              "    root._bokeh_timeout = Date.now() + 5000;\n",
              "    root._bokeh_failed_load = false;\n",
              "  }\n",
              "\n",
              "  var NB_LOAD_WARNING = {'data': {'text/html':\n",
              "     \"<div style='background-color: #fdd'>\\n\"+\n",
              "     \"<p>\\n\"+\n",
              "     \"BokehJS does not appear to have successfully loaded. If loading BokehJS from CDN, this \\n\"+\n",
              "     \"may be due to a slow or bad network connection. Possible fixes:\\n\"+\n",
              "     \"</p>\\n\"+\n",
              "     \"<ul>\\n\"+\n",
              "     \"<li>re-rerun `output_notebook()` to attempt to load from CDN again, or</li>\\n\"+\n",
              "     \"<li>use INLINE resources instead, as so:</li>\\n\"+\n",
              "     \"</ul>\\n\"+\n",
              "     \"<code>\\n\"+\n",
              "     \"from bokeh.resources import INLINE\\n\"+\n",
              "     \"output_notebook(resources=INLINE)\\n\"+\n",
              "     \"</code>\\n\"+\n",
              "     \"</div>\"}};\n",
              "\n",
              "  function display_loaded() {\n",
              "    var el = document.getElementById(\"2504\");\n",
              "    if (el != null) {\n",
              "      el.textContent = \"BokehJS is loading...\";\n",
              "    }\n",
              "    if (root.Bokeh !== undefined) {\n",
              "      if (el != null) {\n",
              "        el.textContent = \"BokehJS \" + root.Bokeh.version + \" successfully loaded.\";\n",
              "      }\n",
              "    } else if (Date.now() < root._bokeh_timeout) {\n",
              "      setTimeout(display_loaded, 100)\n",
              "    }\n",
              "  }\n",
              "\n",
              "\n",
              "  function run_callbacks() {\n",
              "    try {\n",
              "      root._bokeh_onload_callbacks.forEach(function(callback) { callback() });\n",
              "    }\n",
              "    finally {\n",
              "      delete root._bokeh_onload_callbacks\n",
              "    }\n",
              "    console.info(\"Bokeh: all callbacks have finished\");\n",
              "  }\n",
              "\n",
              "  function load_libs(js_urls, callback) {\n",
              "    root._bokeh_onload_callbacks.push(callback);\n",
              "    if (root._bokeh_is_loading > 0) {\n",
              "      console.log(\"Bokeh: BokehJS is being loaded, scheduling callback at\", now());\n",
              "      return null;\n",
              "    }\n",
              "    if (js_urls == null || js_urls.length === 0) {\n",
              "      run_callbacks();\n",
              "      return null;\n",
              "    }\n",
              "    console.log(\"Bokeh: BokehJS not loaded, scheduling load and callback at\", now());\n",
              "    root._bokeh_is_loading = js_urls.length;\n",
              "    for (var i = 0; i < js_urls.length; i++) {\n",
              "      var url = js_urls[i];\n",
              "      var s = document.createElement('script');\n",
              "      s.src = url;\n",
              "      s.async = false;\n",
              "      s.onreadystatechange = s.onload = function() {\n",
              "        root._bokeh_is_loading--;\n",
              "        if (root._bokeh_is_loading === 0) {\n",
              "          console.log(\"Bokeh: all BokehJS libraries loaded\");\n",
              "          run_callbacks()\n",
              "        }\n",
              "      };\n",
              "      s.onerror = function() {\n",
              "        console.warn(\"failed to load library \" + url);\n",
              "      };\n",
              "      console.log(\"Bokeh: injecting script tag for BokehJS library: \", url);\n",
              "      document.getElementsByTagName(\"head\")[0].appendChild(s);\n",
              "    }\n",
              "  };var element = document.getElementById(\"2504\");\n",
              "  if (element == null) {\n",
              "    console.log(\"Bokeh: ERROR: autoload.js configured with elementid '2504' but no matching script tag was found. \")\n",
              "    return false;\n",
              "  }\n",
              "\n",
              "  var js_urls = [\"https://cdn.pydata.org/bokeh/release/bokeh-1.0.4.min.js\", \"https://cdn.pydata.org/bokeh/release/bokeh-widgets-1.0.4.min.js\", \"https://cdn.pydata.org/bokeh/release/bokeh-tables-1.0.4.min.js\", \"https://cdn.pydata.org/bokeh/release/bokeh-gl-1.0.4.min.js\"];\n",
              "\n",
              "  var inline_js = [\n",
              "    function(Bokeh) {\n",
              "      Bokeh.set_log_level(\"info\");\n",
              "    },\n",
              "    \n",
              "    function(Bokeh) {\n",
              "      \n",
              "    },\n",
              "    function(Bokeh) {\n",
              "      console.log(\"Bokeh: injecting CSS: https://cdn.pydata.org/bokeh/release/bokeh-1.0.4.min.css\");\n",
              "      Bokeh.embed.inject_css(\"https://cdn.pydata.org/bokeh/release/bokeh-1.0.4.min.css\");\n",
              "      console.log(\"Bokeh: injecting CSS: https://cdn.pydata.org/bokeh/release/bokeh-widgets-1.0.4.min.css\");\n",
              "      Bokeh.embed.inject_css(\"https://cdn.pydata.org/bokeh/release/bokeh-widgets-1.0.4.min.css\");\n",
              "      console.log(\"Bokeh: injecting CSS: https://cdn.pydata.org/bokeh/release/bokeh-tables-1.0.4.min.css\");\n",
              "      Bokeh.embed.inject_css(\"https://cdn.pydata.org/bokeh/release/bokeh-tables-1.0.4.min.css\");\n",
              "    }\n",
              "  ];\n",
              "\n",
              "  function run_inline_js() {\n",
              "    \n",
              "    if ((root.Bokeh !== undefined) || (force === true)) {\n",
              "      for (var i = 0; i < inline_js.length; i++) {\n",
              "        inline_js[i].call(root, root.Bokeh);\n",
              "      }if (force === true) {\n",
              "        display_loaded();\n",
              "      }} else if (Date.now() < root._bokeh_timeout) {\n",
              "      setTimeout(run_inline_js, 100);\n",
              "    } else if (!root._bokeh_failed_load) {\n",
              "      console.log(\"Bokeh: BokehJS failed to load within specified timeout.\");\n",
              "      root._bokeh_failed_load = true;\n",
              "    } else if (force !== true) {\n",
              "      var cell = $(document.getElementById(\"2504\")).parents('.cell').data().cell;\n",
              "      cell.output_area.append_execute_result(NB_LOAD_WARNING)\n",
              "    }\n",
              "\n",
              "  }\n",
              "\n",
              "  if (root._bokeh_is_loading === 0) {\n",
              "    console.log(\"Bokeh: BokehJS loaded, going straight to plotting\");\n",
              "    run_inline_js();\n",
              "  } else {\n",
              "    load_libs(js_urls, function() {\n",
              "      console.log(\"Bokeh: BokehJS plotting callback run at\", now());\n",
              "      run_inline_js();\n",
              "    });\n",
              "  }\n",
              "}(window));"
            ],
            "application/vnd.bokehjs_load.v0+json": "\n(function(root) {\n  function now() {\n    return new Date();\n  }\n\n  var force = true;\n\n  if (typeof (root._bokeh_onload_callbacks) === \"undefined\" || force === true) {\n    root._bokeh_onload_callbacks = [];\n    root._bokeh_is_loading = undefined;\n  }\n\n  \n\n  \n  if (typeof (root._bokeh_timeout) === \"undefined\" || force === true) {\n    root._bokeh_timeout = Date.now() + 5000;\n    root._bokeh_failed_load = false;\n  }\n\n  var NB_LOAD_WARNING = {'data': {'text/html':\n     \"<div style='background-color: #fdd'>\\n\"+\n     \"<p>\\n\"+\n     \"BokehJS does not appear to have successfully loaded. If loading BokehJS from CDN, this \\n\"+\n     \"may be due to a slow or bad network connection. Possible fixes:\\n\"+\n     \"</p>\\n\"+\n     \"<ul>\\n\"+\n     \"<li>re-rerun `output_notebook()` to attempt to load from CDN again, or</li>\\n\"+\n     \"<li>use INLINE resources instead, as so:</li>\\n\"+\n     \"</ul>\\n\"+\n     \"<code>\\n\"+\n     \"from bokeh.resources import INLINE\\n\"+\n     \"output_notebook(resources=INLINE)\\n\"+\n     \"</code>\\n\"+\n     \"</div>\"}};\n\n  function display_loaded() {\n    var el = document.getElementById(\"2504\");\n    if (el != null) {\n      el.textContent = \"BokehJS is loading...\";\n    }\n    if (root.Bokeh !== undefined) {\n      if (el != null) {\n        el.textContent = \"BokehJS \" + root.Bokeh.version + \" successfully loaded.\";\n      }\n    } else if (Date.now() < root._bokeh_timeout) {\n      setTimeout(display_loaded, 100)\n    }\n  }\n\n\n  function run_callbacks() {\n    try {\n      root._bokeh_onload_callbacks.forEach(function(callback) { callback() });\n    }\n    finally {\n      delete root._bokeh_onload_callbacks\n    }\n    console.info(\"Bokeh: all callbacks have finished\");\n  }\n\n  function load_libs(js_urls, callback) {\n    root._bokeh_onload_callbacks.push(callback);\n    if (root._bokeh_is_loading > 0) {\n      console.log(\"Bokeh: BokehJS is being loaded, scheduling callback at\", now());\n      return null;\n    }\n    if (js_urls == null || js_urls.length === 0) {\n      run_callbacks();\n      return null;\n    }\n    console.log(\"Bokeh: BokehJS not loaded, scheduling load and callback at\", now());\n    root._bokeh_is_loading = js_urls.length;\n    for (var i = 0; i < js_urls.length; i++) {\n      var url = js_urls[i];\n      var s = document.createElement('script');\n      s.src = url;\n      s.async = false;\n      s.onreadystatechange = s.onload = function() {\n        root._bokeh_is_loading--;\n        if (root._bokeh_is_loading === 0) {\n          console.log(\"Bokeh: all BokehJS libraries loaded\");\n          run_callbacks()\n        }\n      };\n      s.onerror = function() {\n        console.warn(\"failed to load library \" + url);\n      };\n      console.log(\"Bokeh: injecting script tag for BokehJS library: \", url);\n      document.getElementsByTagName(\"head\")[0].appendChild(s);\n    }\n  };var element = document.getElementById(\"2504\");\n  if (element == null) {\n    console.log(\"Bokeh: ERROR: autoload.js configured with elementid '2504' but no matching script tag was found. \")\n    return false;\n  }\n\n  var js_urls = [\"https://cdn.pydata.org/bokeh/release/bokeh-1.0.4.min.js\", \"https://cdn.pydata.org/bokeh/release/bokeh-widgets-1.0.4.min.js\", \"https://cdn.pydata.org/bokeh/release/bokeh-tables-1.0.4.min.js\", \"https://cdn.pydata.org/bokeh/release/bokeh-gl-1.0.4.min.js\"];\n\n  var inline_js = [\n    function(Bokeh) {\n      Bokeh.set_log_level(\"info\");\n    },\n    \n    function(Bokeh) {\n      \n    },\n    function(Bokeh) {\n      console.log(\"Bokeh: injecting CSS: https://cdn.pydata.org/bokeh/release/bokeh-1.0.4.min.css\");\n      Bokeh.embed.inject_css(\"https://cdn.pydata.org/bokeh/release/bokeh-1.0.4.min.css\");\n      console.log(\"Bokeh: injecting CSS: https://cdn.pydata.org/bokeh/release/bokeh-widgets-1.0.4.min.css\");\n      Bokeh.embed.inject_css(\"https://cdn.pydata.org/bokeh/release/bokeh-widgets-1.0.4.min.css\");\n      console.log(\"Bokeh: injecting CSS: https://cdn.pydata.org/bokeh/release/bokeh-tables-1.0.4.min.css\");\n      Bokeh.embed.inject_css(\"https://cdn.pydata.org/bokeh/release/bokeh-tables-1.0.4.min.css\");\n    }\n  ];\n\n  function run_inline_js() {\n    \n    if ((root.Bokeh !== undefined) || (force === true)) {\n      for (var i = 0; i < inline_js.length; i++) {\n        inline_js[i].call(root, root.Bokeh);\n      }if (force === true) {\n        display_loaded();\n      }} else if (Date.now() < root._bokeh_timeout) {\n      setTimeout(run_inline_js, 100);\n    } else if (!root._bokeh_failed_load) {\n      console.log(\"Bokeh: BokehJS failed to load within specified timeout.\");\n      root._bokeh_failed_load = true;\n    } else if (force !== true) {\n      var cell = $(document.getElementById(\"2504\")).parents('.cell').data().cell;\n      cell.output_area.append_execute_result(NB_LOAD_WARNING)\n    }\n\n  }\n\n  if (root._bokeh_is_loading === 0) {\n    console.log(\"Bokeh: BokehJS loaded, going straight to plotting\");\n    run_inline_js();\n  } else {\n    load_libs(js_urls, function() {\n      console.log(\"Bokeh: BokehJS plotting callback run at\", now());\n      run_inline_js();\n    });\n  }\n}(window));"
          },
          "metadata": {
            "tags": []
          }
        },
        {
          "output_type": "display_data",
          "data": {
            "text/html": [
              "\n",
              "\n",
              "\n",
              "\n",
              "\n",
              "\n",
              "  <div class=\"bk-root\" id=\"5d11bc0c-a337-412c-b1a8-251d45fb82a9\" data-root-id=\"2506\"></div>\n"
            ]
          },
          "metadata": {
            "tags": []
          }
        },
        {
          "output_type": "display_data",
          "data": {
            "application/javascript": [
              "(function(root) {\n",
              "  function embed_document(root) {\n",
              "    \n",
              "  var docs_json = {\"17fa46d2-34ac-40b4-aeb7-835009146295\":{\"roots\":{\"references\":[{\"attributes\":{\"below\":[{\"id\":\"2516\",\"type\":\"LinearAxis\"}],\"left\":[{\"id\":\"2521\",\"type\":\"LinearAxis\"}],\"renderers\":[{\"id\":\"2516\",\"type\":\"LinearAxis\"},{\"id\":\"2520\",\"type\":\"Grid\"},{\"id\":\"2521\",\"type\":\"LinearAxis\"},{\"id\":\"2525\",\"type\":\"Grid\"},{\"id\":\"2539\",\"type\":\"GlyphRenderer\"},{\"id\":\"2541\",\"type\":\"LabelSet\"}],\"title\":{\"id\":\"2505\",\"type\":\"Title\"},\"toolbar\":{\"id\":\"2530\",\"type\":\"Toolbar\"},\"toolbar_location\":\"above\",\"x_range\":{\"id\":\"2508\",\"type\":\"DataRange1d\"},\"x_scale\":{\"id\":\"2512\",\"type\":\"LinearScale\"},\"y_range\":{\"id\":\"2510\",\"type\":\"DataRange1d\"},\"y_scale\":{\"id\":\"2514\",\"type\":\"LinearScale\"}},\"id\":\"2506\",\"subtype\":\"Figure\",\"type\":\"Plot\"},{\"attributes\":{\"data_source\":{\"id\":\"2535\",\"type\":\"ColumnDataSource\"},\"glyph\":{\"id\":\"2537\",\"type\":\"Scatter\"},\"hover_glyph\":null,\"muted_glyph\":null,\"nonselection_glyph\":{\"id\":\"2538\",\"type\":\"Scatter\"},\"selection_glyph\":null,\"view\":{\"id\":\"2540\",\"type\":\"CDSView\"}},\"id\":\"2539\",\"type\":\"GlyphRenderer\"},{\"attributes\":{},\"id\":\"2528\",\"type\":\"ResetTool\"},{\"attributes\":{\"plot\":null,\"text\":\"word2vec T-SNE for most common words\"},\"id\":\"2505\",\"type\":\"Title\"},{\"attributes\":{},\"id\":\"2522\",\"type\":\"BasicTicker\"},{\"attributes\":{\"formatter\":{\"id\":\"2630\",\"type\":\"BasicTickFormatter\"},\"plot\":{\"id\":\"2506\",\"subtype\":\"Figure\",\"type\":\"Plot\"},\"ticker\":{\"id\":\"2522\",\"type\":\"BasicTicker\"}},\"id\":\"2521\",\"type\":\"LinearAxis\"},{\"attributes\":{\"fill_alpha\":{\"value\":0.1},\"fill_color\":{\"value\":\"#1f77b4\"},\"line_alpha\":{\"value\":0.1},\"line_color\":{\"value\":\"#1f77b4\"},\"size\":{\"units\":\"screen\",\"value\":8},\"x\":{\"field\":\"x1\"},\"y\":{\"field\":\"x2\"}},\"id\":\"2538\",\"type\":\"Scatter\"},{\"attributes\":{\"callback\":null},\"id\":\"2510\",\"type\":\"DataRange1d\"},{\"attributes\":{},\"id\":\"2628\",\"type\":\"BasicTickFormatter\"},{\"attributes\":{\"callback\":null},\"id\":\"2508\",\"type\":\"DataRange1d\"},{\"attributes\":{},\"id\":\"2526\",\"type\":\"PanTool\"},{\"attributes\":{},\"id\":\"2633\",\"type\":\"Selection\"},{\"attributes\":{\"formatter\":{\"id\":\"2628\",\"type\":\"BasicTickFormatter\"},\"plot\":{\"id\":\"2506\",\"subtype\":\"Figure\",\"type\":\"Plot\"},\"ticker\":{\"id\":\"2517\",\"type\":\"BasicTicker\"}},\"id\":\"2516\",\"type\":\"LinearAxis\"},{\"attributes\":{},\"id\":\"2517\",\"type\":\"BasicTicker\"},{\"attributes\":{\"fill_color\":{\"value\":\"#1f77b4\"},\"line_color\":{\"value\":\"#1f77b4\"},\"size\":{\"units\":\"screen\",\"value\":8},\"x\":{\"field\":\"x1\"},\"y\":{\"field\":\"x2\"}},\"id\":\"2537\",\"type\":\"Scatter\"},{\"attributes\":{},\"id\":\"2529\",\"type\":\"SaveTool\"},{\"attributes\":{\"callback\":null,\"data\":{\"names\":[\"the\",\"and\",\"to\",\"of\",\"a\",\"that\",\"i\",\"in\",\"it\",\"you\",\"we\",\"is\",\"s\",\"this\",\"so\",\"they\",\"was\",\"for\",\"are\",\"have\",\"but\",\"what\",\"on\",\"with\",\"can\",\"t\",\"about\",\"there\",\"be\",\"as\",\"at\",\"all\",\"not\",\"do\",\"my\",\"one\",\"re\",\"people\",\"like\",\"if\",\"from\",\"now\",\"our\",\"he\",\"an\",\"just\",\"these\",\"or\",\"when\",\"because\",\"very\",\"me\",\"out\",\"by\",\"them\",\"how\",\"know\",\"up\",\"going\",\"had\",\"more\",\"think\",\"who\",\"were\",\"see\",\"your\",\"their\",\"which\",\"would\",\"here\",\"really\",\"get\",\"ve\",\"then\",\"m\",\"world\",\"us\",\"time\",\"some\",\"has\",\"don\",\"actually\",\"into\",\"way\",\"where\",\"will\",\"years\",\"things\",\"other\",\"no\",\"could\",\"go\",\"well\",\"want\",\"been\",\"make\",\"right\",\"she\",\"said\",\"something\",\"those\",\"first\",\"two\",\"than\",\"much\",\"also\",\"look\",\"new\",\"thing\",\"little\",\"got\",\"back\",\"over\",\"most\",\"say\",\"even\",\"his\",\"life\",\"only\",\"work\",\"many\",\"take\",\"need\",\"did\",\"lot\",\"kind\",\"why\",\"good\",\"around\",\"every\",\"different\",\"down\",\"ll\",\"let\",\"her\",\"through\",\"same\",\"being\",\"come\",\"d\",\"day\",\"year\",\"three\",\"use\",\"doing\",\"put\",\"called\",\"any\",\"today\",\"percent\",\"made\",\"after\",\"thank\",\"tell\",\"great\",\"human\",\"find\",\"didn\",\"fact\",\"talk\",\"change\",\"started\",\"another\",\"idea\",\"big\",\"last\",\"own\",\"before\",\"its\",\"never\",\"should\",\"better\",\"give\",\"thought\",\"went\",\"might\",\"important\",\"000\",\"again\",\"able\",\"together\",\"still\",\"problem\",\"off\",\"next\",\"part\",\"course\",\"system\",\"him\",\"does\",\"each\",\"start\",\"show\",\"long\",\"ago\",\"story\",\"came\",\"brain\",\"few\",\"bit\",\"between\",\"used\",\"place\",\"technology\",\"women\",\"too\",\"old\",\"mean\",\"data\",\"water\",\"looking\",\"question\",\"maybe\",\"found\",\"love\",\"doesn\",\"end\",\"example\",\"10\",\"done\",\"point\",\"four\",\"real\",\"wanted\",\"ever\",\"school\",\"understand\",\"sort\",\"live\",\"call\",\"whole\",\"children\",\"always\",\"trying\",\"may\",\"person\",\"away\",\"believe\",\"feel\",\"try\",\"million\",\"working\",\"help\",\"everything\",\"five\",\"country\",\"thinking\",\"second\",\"using\",\"information\",\"money\",\"means\",\"power\",\"took\",\"times\",\"high\",\"space\",\"number\",\"kids\",\"home\",\"become\",\"create\",\"small\",\"design\",\"making\",\"best\",\"left\",\"getting\",\"future\",\"enough\",\"man\",\"quite\",\"city\",\"without\",\"sense\",\"happened\",\"comes\",\"social\",\"probably\",\"less\",\"light\",\"talking\",\"energy\",\"am\",\"building\",\"science\",\"food\",\"body\",\"told\",\"interesting\",\"ask\",\"half\",\"pretty\",\"hard\",\"play\",\"anything\",\"lives\",\"countries\",\"coming\",\"such\",\"family\",\"stuff\",\"dollars\",\"earth\",\"moment\",\"20\",\"imagine\",\"across\",\"side\",\"while\",\"saw\",\"happen\",\"once\",\"okay\",\"build\",\"having\",\"men\",\"later\",\"experience\",\"makes\",\"asked\",\"living\",\"seen\",\"says\",\"room\",\"hand\",\"simple\",\"health\",\"ways\",\"else\",\"case\",\"yet\",\"almost\",\"young\",\"days\",\"nothing\",\"care\",\"bad\",\"happens\",\"goes\",\"move\",\"states\",\"reason\",\"computer\",\"open\",\"learn\",\"africa\",\"process\",\"inside\",\"someone\",\"six\",\"far\",\"mind\",\"project\",\"remember\",\"single\",\"picture\",\"both\",\"whether\",\"problems\",\"saying\",\"community\",\"basically\",\"already\",\"within\",\"looked\",\"myself\",\"billion\",\"often\",\"possible\",\"business\",\"planet\",\"global\",\"everybody\",\"top\",\"sure\",\"public\",\"set\",\"wrong\",\"car\",\"book\",\"keep\",\"yes\",\"answer\",\"oh\",\"hope\",\"sometimes\",\"true\",\"history\",\"war\",\"guy\",\"child\",\"instead\",\"months\",\"ideas\",\"looks\",\"matter\",\"government\",\"amazing\",\"united\",\"since\",\"bring\",\"age\",\"cells\",\"job\",\"heard\",\"until\",\"face\",\"wasn\",\"100\",\"read\",\"control\",\"isn\",\"research\",\"30\",\"words\",\"u\",\"group\",\"under\",\"self\",\"somebody\",\"built\",\"state\",\"woman\",\"turn\",\"friends\",\"beautiful\",\"line\",\"knew\",\"couple\",\"order\",\"form\",\"yeah\",\"internet\",\"middle\",\"music\",\"piece\",\"nature\",\"head\",\"though\",\"stop\",\"everyone\",\"50\",\"places\",\"video\",\"learned\",\"language\",\"run\",\"night\",\"decided\",\"study\",\"word\",\"cancer\",\"taking\",\"works\",\"became\",\"exactly\",\"species\",\"society\",\"completely\",\"education\",\"against\",\"stories\",\"large\",\"share\",\"level\",\"heart\",\"america\",\"model\",\"questions\",\"gets\",\"mother\",\"god\",\"company\",\"turns\",\"ourselves\",\"happening\",\"hear\",\"art\",\"themselves\",\"must\",\"itself\",\"rather\",\"kinds\",\"students\",\"name\",\"hours\",\"disease\",\"front\",\"house\",\"huge\",\"couldn\",\"created\",\"universe\",\"ok\",\"animals\",\"american\",\"environment\",\"worked\",\"minutes\",\"ones\",\"black\",\"perhaps\",\"1\",\"past\",\"third\",\"along\",\"others\",\"finally\",\"sound\",\"early\",\"game\",\"thousands\",\"century\",\"based\",\"least\",\"per\",\"ted\",\"lots\",\"figure\",\"free\",\"guys\",\"particular\",\"happy\",\"news\",\"learning\",\"entire\",\"won\",\"gave\",\"machine\",\"india\",\"during\",\"systems\",\"air\",\"difference\",\"outside\",\"natural\",\"taken\",\"seven\",\"given\",\"changed\",\"leave\",\"cell\",\"15\",\"close\",\"behind\",\"cities\",\"full\",\"scale\",\"difficult\",\"china\",\"takes\",\"companies\",\"yourself\",\"area\",\"reality\",\"seeing\",\"easy\",\"turned\",\"cost\",\"eyes\",\"team\",\"moving\",\"population\",\"culture\",\"york\",\"hands\",\"whatever\",\"began\",\"needs\",\"terms\",\"image\",\"simply\",\"needed\",\"beginning\",\"father\",\"local\",\"realized\",\"media\",\"death\",\"parents\",\"view\",\"walk\",\"white\",\"market\",\"parts\",\"ocean\",\"economic\",\"eight\",\"powerful\",\"known\",\"week\",\"size\",\"felt\",\"humans\",\"certain\",\"spend\",\"longer\",\"phone\",\"wonderful\",\"cannot\",\"grow\",\"common\",\"center\",\"tried\",\"fish\",\"land\",\"oil\",\"political\",\"interested\",\"deal\",\"red\",\"gone\",\"amount\",\"weeks\",\"spent\",\"opportunity\",\"paper\",\"lost\",\"national\",\"quickly\",\"blue\",\"step\",\"poor\",\"green\",\"buy\",\"growth\",\"wouldn\",\"either\",\"patients\",\"sitting\",\"ability\",\"changes\",\"write\",\"challenge\",\"south\",\"low\",\"growing\",\"friend\",\"field\",\"shows\",\"2\",\"born\",\"rest\",\"climate\",\"40\",\"test\",\"street\",\"surface\",\"incredible\",\"average\",\"physical\",\"morning\",\"scientists\",\"program\",\"pay\",\"value\",\"feeling\",\"hundreds\",\"girl\",\"met\",\"behavior\",\"economy\",\"dna\",\"complex\",\"access\",\"risk\",\"animal\",\"structure\",\"feet\",\"attention\",\"areas\",\"anyone\",\"deep\",\"watch\",\"short\",\"absolutely\",\"speak\",\"brought\",\"die\",\"bottom\",\"numbers\",\"audience\",\"stage\",\"realize\",\"law\",\"images\",\"wrote\",\"understanding\",\"knowledge\",\"literally\",\"books\",\"movement\",\"ground\",\"giving\",\"eat\",\"force\",\"seems\",\"alone\",\"telling\",\"starting\",\"hold\",\"nice\",\"forward\",\"sea\",\"developed\",\"individual\",\"kid\",\"millions\",\"support\",\"miles\",\"tools\",\"running\",\"online\",\"result\",\"act\",\"medical\",\"technologies\",\"north\",\"lab\",\"development\",\"blood\",\"fear\",\"nobody\",\"map\",\"personal\",\"issue\",\"voice\",\"material\",\"key\",\"12\",\"recently\",\"theory\",\"cut\",\"cars\",\"sun\",\"fast\",\"changing\",\"playing\",\"clear\",\"especially\",\"soon\",\"girls\",\"patient\",\"choice\",\"fly\",\"creating\",\"normal\",\"discovered\",\"europe\",\"talked\",\"relationship\",\"gives\",\"generation\",\"dark\",\"type\",\"showed\",\"chance\",\"seem\",\"industry\",\"asking\",\"rate\",\"fun\",\"issues\",\"color\",\"designed\",\"hour\",\"university\",\"innovation\",\"several\",\"class\",\"computers\",\"english\",\"tiny\",\"allow\",\"save\",\"focus\",\"digital\",\"solve\",\"developing\",\"network\",\"film\",\"special\",\"wall\",\"situation\",\"baby\",\"solution\",\"reasons\",\"box\",\"knows\",\"meet\",\"dead\",\"stand\",\"begin\",\"haven\",\"impact\",\"anybody\",\"term\",\"beyond\",\"pictures\",\"please\",\"ice\",\"produce\",\"shape\",\"non\",\"resources\",\"robot\",\"cool\",\"groups\",\"likely\",\"stay\",\"available\",\"truth\",\"rights\",\"major\",\"cause\",\"evidence\",\"obviously\",\"writing\",\"experiment\",\"modern\",\"drug\",\"becomes\",\"incredibly\",\"aren\",\"bigger\",\"guess\",\"nine\",\"product\",\"drugs\",\"lived\",\"involved\",\"perfect\",\"google\",\"month\",\"effect\",\"similar\",\"putting\",\"eye\",\"pick\",\"message\",\"quality\",\"violence\",\"web\",\"evolution\",\"security\",\"office\",\"basic\",\"solar\",\"indeed\",\"general\",\"towards\",\"present\",\"drive\",\"send\",\"listen\",\"worth\",\"revolution\",\"explain\",\"hundred\",\"certainly\",\"died\",\"ready\",\"teach\",\"journey\",\"25\",\"hit\",\"walking\",\"led\",\"approach\",\"international\",\"200\",\"scientific\",\"games\",\"60\",\"potential\",\"crazy\",\"communities\",\"chinese\",\"device\",\"source\",\"camera\",\"rules\",\"sex\",\"carbon\",\"sounds\",\"boy\",\"reach\",\"starts\",\"examples\",\"west\",\"3\",\"success\",\"measure\",\"particularly\",\"software\",\"totally\",\"suddenly\",\"action\",\"college\",\"higher\",\"code\",\"eventually\",\"democracy\",\"among\",\"minute\",\"sit\",\"largest\",\"showing\",\"hospital\",\"notice\",\"period\",\"mass\",\"develop\",\"dream\",\"onto\",\"plants\",\"break\",\"add\",\"memory\",\"everywhere\",\"favorite\",\"11\",\"zero\",\"speed\",\"schools\",\"moved\",\"response\",\"wants\",\"extremely\",\"movie\",\"individuals\",\"table\",\"wait\",\"medicine\",\"follow\",\"anyway\",\"trust\",\"plant\",\"biggest\",\"watching\",\"organization\",\"creative\",\"road\",\"choose\",\"worse\",\"lead\",\"results\",\"500\",\"exciting\",\"grew\",\"materials\",\"jobs\",\"plan\",\"east\",\"poverty\",\"positive\",\"safe\",\"strong\",\"fall\",\"essentially\",\"object\",\"door\",\"son\",\"vision\",\"further\",\"happiness\",\"continue\",\"student\",\"doctor\",\"including\",\"named\",\"role\",\"objects\",\"extraordinary\",\"standing\",\"skin\",\"leaders\",\"usually\",\"african\",\"conversation\",\"projects\",\"allowed\",\"models\",\"supposed\",\"faster\",\"interest\",\"families\",\"police\",\"fight\",\"tree\",\"connected\",\"screen\",\"5\",\"cases\",\"goal\",\"somewhere\",\"finding\",\"buildings\",\"shown\"],\"x1\":{\"__ndarray__\":\"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\",\"dtype\":\"float32\",\"shape\":[1000]},\"x2\":{\"__ndarray__\":\"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\",\"dtype\":\"float32\",\"shape\":[1000]}},\"selected\":{\"id\":\"2633\",\"type\":\"Selection\"},\"selection_policy\":{\"id\":\"2632\",\"type\":\"UnionRenderers\"}},\"id\":\"2535\",\"type\":\"ColumnDataSource\"},{\"attributes\":{},\"id\":\"2512\",\"type\":\"LinearScale\"},{\"attributes\":{},\"id\":\"2632\",\"type\":\"UnionRenderers\"},{\"attributes\":{},\"id\":\"2514\",\"type\":\"LinearScale\"},{\"attributes\":{\"source\":{\"id\":\"2535\",\"type\":\"ColumnDataSource\"}},\"id\":\"2540\",\"type\":\"CDSView\"},{\"attributes\":{\"active_drag\":\"auto\",\"active_inspect\":\"auto\",\"active_multi\":null,\"active_scroll\":\"auto\",\"active_tap\":\"auto\",\"tools\":[{\"id\":\"2526\",\"type\":\"PanTool\"},{\"id\":\"2527\",\"type\":\"WheelZoomTool\"},{\"id\":\"2528\",\"type\":\"ResetTool\"},{\"id\":\"2529\",\"type\":\"SaveTool\"}]},\"id\":\"2530\",\"type\":\"Toolbar\"},{\"attributes\":{\"dimension\":1,\"plot\":{\"id\":\"2506\",\"subtype\":\"Figure\",\"type\":\"Plot\"},\"ticker\":{\"id\":\"2522\",\"type\":\"BasicTicker\"}},\"id\":\"2525\",\"type\":\"Grid\"},{\"attributes\":{},\"id\":\"2630\",\"type\":\"BasicTickFormatter\"},{\"attributes\":{\"plot\":{\"id\":\"2506\",\"subtype\":\"Figure\",\"type\":\"Plot\"},\"source\":{\"id\":\"2535\",\"type\":\"ColumnDataSource\"},\"text\":{\"field\":\"names\"},\"text_align\":\"center\",\"text_color\":{\"value\":\"#555555\"},\"text_font_size\":{\"value\":\"8pt\"},\"x\":{\"field\":\"x1\"},\"y\":{\"field\":\"x2\"},\"y_offset\":{\"value\":6}},\"id\":\"2541\",\"type\":\"LabelSet\"},{\"attributes\":{\"plot\":{\"id\":\"2506\",\"subtype\":\"Figure\",\"type\":\"Plot\"},\"ticker\":{\"id\":\"2517\",\"type\":\"BasicTicker\"}},\"id\":\"2520\",\"type\":\"Grid\"},{\"attributes\":{},\"id\":\"2527\",\"type\":\"WheelZoomTool\"}],\"root_ids\":[\"2506\"]},\"title\":\"Bokeh Application\",\"version\":\"1.0.4\"}};\n",
              "  var render_items = [{\"docid\":\"17fa46d2-34ac-40b4-aeb7-835009146295\",\"roots\":{\"2506\":\"5d11bc0c-a337-412c-b1a8-251d45fb82a9\"}}];\n",
              "  root.Bokeh.embed.embed_items_notebook(docs_json, render_items);\n",
              "\n",
              "  }\n",
              "  if (root.Bokeh !== undefined) {\n",
              "    embed_document(root);\n",
              "  } else {\n",
              "    var attempts = 0;\n",
              "    var timer = setInterval(function(root) {\n",
              "      if (root.Bokeh !== undefined) {\n",
              "        embed_document(root);\n",
              "        clearInterval(timer);\n",
              "      }\n",
              "      attempts++;\n",
              "      if (attempts > 100) {\n",
              "        console.log(\"Bokeh: ERROR: Unable to run BokehJS code because BokehJS library is missing\");\n",
              "        clearInterval(timer);\n",
              "      }\n",
              "    }, 10, root)\n",
              "  }\n",
              "})(window);"
            ],
            "application/vnd.bokehjs_exec.v0+json": ""
          },
          "metadata": {
            "tags": [],
            "application/vnd.bokehjs_exec.v0+json": {
              "id": "2506"
            }
          }
        }
      ]
    },
    {
      "metadata": {
        "id": "F0iSLCIwscro",
        "colab_type": "raw"
      },
      "cell_type": "markdown",
      "source": [
        "We can notice how time words are forming a cluster and they are very close with nearly the same difference between the single and plural ones so\n",
        "word_vector(weeks) - word_vector(week) == word_vector(minutes) - word_vector(minute) "
      ]
    },
    {
      "metadata": {
        "id": "L6D2cer1v6iE",
        "colab_type": "text"
      },
      "cell_type": "markdown",
      "source": [
        "<img src=\"tsne.png\">"
      ]
    },
    {
      "metadata": {
        "id": "eg-Lciy0v3v6",
        "colab_type": "code",
        "colab": {}
      },
      "cell_type": "code",
      "source": [
        "from IPython.display import Image\n",
        "Image(filename='tsne1.png')"
      ],
      "execution_count": 0,
      "outputs": []
    },
    {
      "metadata": {
        "id": "Ol6pkoRmpk9M",
        "colab_type": "text"
      },
      "cell_type": "markdown",
      "source": [
        "![Texte alternatif…](https://i.ibb.co/mBqk9q5/tsne.png)"
      ]
    },
    {
      "metadata": {
        "id": "2cHXEb97scru",
        "colab_type": "text"
      },
      "cell_type": "markdown",
      "source": [
        "We can calculate the difference between the vectors and conpare it."
      ]
    },
    {
      "metadata": {
        "id": "AedlJ2JYscrq",
        "colab_type": "text"
      },
      "cell_type": "markdown",
      "source": [
        "![Tsne](https://i.ibb.co/TmHcc0X/tsne1.png)\n",
        "\n",
        "---\n",
        "\n"
      ]
    },
    {
      "metadata": {
        "id": "V_ztfiTjscru",
        "colab_type": "text"
      },
      "cell_type": "markdown",
      "source": [
        "We can notice also that the verbs are forming a cluster so they are close to each other so when if we want to do some text generation it may change a verb by another and still have nearly the same distance with a correct form."
      ]
    },
    {
      "metadata": {
        "id": "tuxTtI9rwMgl",
        "colab_type": "text"
      },
      "cell_type": "markdown",
      "source": [
        "![verbs cluster](verbs_cluster.png)"
      ]
    },
    {
      "metadata": {
        "id": "39xEv7jLscrv",
        "colab_type": "text"
      },
      "cell_type": "markdown",
      "source": [
        "![Texte alternatif…](https://i.ibb.co/C7S1phk/verbs-cluster.png)"
      ]
    },
    {
      "metadata": {
        "id": "RZ6R_To2scrw",
        "colab_type": "code",
        "outputId": "19b36216-2bf0-486d-8d36-26dd3205ad66",
        "colab": {
          "base_uri": "https://localhost:8080/",
          "height": 35
        }
      },
      "cell_type": "code",
      "source": [
        "model_ted.wv.wmdistance('minute', 'minutes')"
      ],
      "execution_count": 0,
      "outputs": [
        {
          "output_type": "execute_result",
          "data": {
            "text/plain": [
              "2.5969762104440433"
            ]
          },
          "metadata": {
            "tags": []
          },
          "execution_count": 83
        }
      ]
    },
    {
      "metadata": {
        "id": "d2dsRoZKscry",
        "colab_type": "code",
        "outputId": "d82d51a1-edfa-4256-8a3a-7745fff99761",
        "colab": {
          "base_uri": "https://localhost:8080/",
          "height": 35
        }
      },
      "cell_type": "code",
      "source": [
        "wv1 = model_ted.wv['minute']\n",
        "wv2 = model_ted.wv['minutes']\n",
        "cos_dist = np.dot(wv1, wv2) / (np.linalg.norm(wv1) * np.linalg.norm(wv2))\n",
        "print(cos_dist)"
      ],
      "execution_count": 0,
      "outputs": [
        {
          "output_type": "stream",
          "text": [
            "0.7574823\n"
          ],
          "name": "stdout"
        }
      ]
    },
    {
      "metadata": {
        "id": "xeLAuTJCAVI_",
        "colab_type": "text"
      },
      "cell_type": "markdown",
      "source": [
        "We can notice that word2vec is not using cosine distance between the two word vectors but instead it is using Word Mover’s Distance : **WMD is designed to overcome synonym problem** since it uses word embedding. After that it is using normalized bag-of-words (nBOW) to represent the weight or importance. It assumes that higher frequency implies that it is more important. \n",
        "\n",
        "**Paper of the WMD for more details http://proceedings.mlr.press/v37/kusnerb15.pdf**\n",
        "\n",
        "or this [article](https://towardsdatascience.com/word-distance-between-word-embeddings-cc3e9cf1d632)"
      ]
    },
    {
      "metadata": {
        "id": "SzQENALMscr0",
        "colab_type": "text"
      },
      "cell_type": "markdown",
      "source": [
        "### Part 5: Wiki Learnt Representations"
      ]
    },
    {
      "metadata": {
        "id": "0w2VkUfascr1",
        "colab_type": "text"
      },
      "cell_type": "markdown",
      "source": [
        "Download dataset"
      ]
    },
    {
      "metadata": {
        "id": "K_gHele4scr2",
        "colab_type": "code",
        "colab": {}
      },
      "cell_type": "code",
      "source": [
        "if not os.path.isfile('wikitext-103-raw-v1.zip'):\n",
        "    urllib.request.urlretrieve(\"https://s3.amazonaws.com/research.metamind.io/wikitext/wikitext-103-raw-v1.zip\", filename=\"wikitext-103-raw-v1.zip\")"
      ],
      "execution_count": 0,
      "outputs": []
    },
    {
      "metadata": {
        "id": "P-q83k-Iscr3",
        "colab_type": "code",
        "colab": {}
      },
      "cell_type": "code",
      "source": [
        "with zipfile.ZipFile('wikitext-103-raw-v1.zip', 'r') as z:\n",
        "    input_text = str(z.open('wikitext-103-raw/wiki.train.raw', 'r').read(), encoding='utf-8') # Thanks Robert Bastian"
      ],
      "execution_count": 0,
      "outputs": []
    },
    {
      "metadata": {
        "id": "8Vgy04fdscr8",
        "colab_type": "text"
      },
      "cell_type": "markdown",
      "source": [
        "Preprocess sentences (note that it's important to remove small sentences for performance)"
      ]
    },
    {
      "metadata": {
        "id": "hG4ag1V5scr-",
        "colab_type": "code",
        "colab": {}
      },
      "cell_type": "code",
      "source": [
        "sentences_wiki = []\n",
        "for line in input_text.split('\\n'):\n",
        "    s = [x for x in line.split('.') if x and len(x.split()) >= 5]\n",
        "    sentences_wiki.extend(s)\n",
        "    \n",
        "for s_i in range(len(sentences_wiki)):\n",
        "    sentences_wiki[s_i] = re.sub(r'\\([^)]*\\)', '', sentences_wiki[s_i])\n",
        "    sentences_wiki[s_i] = re.sub(\"[^a-z]\", \" \", sentences_wiki[s_i].lower()).split()\n",
        "del input_text"
      ],
      "execution_count": 0,
      "outputs": []
    },
    {
      "metadata": {
        "id": "iCPd66J-scsC",
        "colab_type": "code",
        "outputId": "cd26e2c8-8245-428a-a48d-899ddeb29b91",
        "colab": {
          "base_uri": "https://localhost:8080/",
          "height": 53
        }
      },
      "cell_type": "code",
      "source": [
        "# sample 1/5 of the data\n",
        "shuffle(sentences_wiki)\n",
        "print(len(sentences_wiki))\n",
        "sentences_wiki = sentences_wiki[:int(len(sentences_wiki)/5)]\n",
        "print(len(sentences_wiki))"
      ],
      "execution_count": 0,
      "outputs": [
        {
          "output_type": "stream",
          "text": [
            "4267112\n",
            "853422\n"
          ],
          "name": "stdout"
        }
      ]
    },
    {
      "metadata": {
        "id": "v_QPrtBmscsH",
        "colab_type": "text"
      },
      "cell_type": "markdown",
      "source": [
        "Now, repeat all the same steps that you performed above. You should be able to reuse essentially all the code."
      ]
    },
    {
      "metadata": {
        "id": "S_6_b6L8scsJ",
        "colab_type": "code",
        "outputId": "a2a6f55a-d5b6-4c11-cc1e-d123a5bd6001",
        "colab": {
          "base_uri": "https://localhost:8080/",
          "height": 73
        }
      },
      "cell_type": "code",
      "source": [
        "print(sentences_wiki[0])\n",
        "print(sentences_wiki[1])"
      ],
      "execution_count": 0,
      "outputs": [
        {
          "output_type": "stream",
          "text": [
            "['according', 'to', 'tamil', 'versions', 'of', 'the', 'mahabharata', 'the', 'god', 'krishna', 'an', 'incarnation', 'of', 'vishnu', 'also', 'took', 'the', 'form', 'of', 'mohini', 'and', 'married', 'aravan']\n",
            "['as', 'each', 'van', 'carried', 'coffins', 'and', 'it', 'is', 'known', 'that', 'some', 'funeral', 'trains', 'in', 'the', 'late', 'th', 'century', 'carried', 'over', 'coffins', 'at', 'least', 'six', 'hearse', 'vans', 'must', 'have', 'been', 'in', 'use']\n"
          ],
          "name": "stdout"
        }
      ]
    },
    {
      "metadata": {
        "id": "rHwLHXcJscsL",
        "colab_type": "code",
        "outputId": "f3eeea10-87f5-4f70-e5a7-4fe4b8881339",
        "colab": {
          "base_uri": "https://localhost:8080/",
          "height": 55
        }
      },
      "cell_type": "code",
      "source": [
        "wiki = Counter()\n",
        "for li in sentences_wiki:\n",
        "  for word in li:\n",
        "    wiki[word] +=1\n",
        "\n",
        "comm_wiki = wiki.most_common(1000) #return a list with most commmon words with their countings in a tuple\n",
        "counts_wiki_top1000 = [x[1] for x in comm_wiki]\n",
        "words_top_wiki = [x[0] for x in comm_wiki]\n",
        "print(comm_wiki[:40])"
      ],
      "execution_count": 0,
      "outputs": [
        {
          "output_type": "stream",
          "text": [
            "[('the', 1275152), ('of', 541969), ('and', 493757), ('in', 428100), ('to', 394274), ('a', 354593), ('was', 214003), ('s', 162106), ('on', 152821), ('as', 141588), ('for', 138126), ('that', 137889), ('with', 128177), ('by', 124749), ('is', 102511), ('his', 92504), ('he', 91191), ('at', 90500), ('it', 88537), ('from', 87735), ('were', 70530), ('an', 64060), ('had', 58102), ('which', 54011), ('be', 47489), ('this', 43265), ('but', 42134), ('are', 40722), ('first', 40288), ('not', 39295), ('their', 38565), ('after', 38192), ('one', 37637), ('her', 37261), ('also', 36747), ('its', 36592), ('they', 34654), ('two', 33666), ('have', 32510), ('or', 31629)]\n"
          ],
          "name": "stdout"
        }
      ]
    },
    {
      "metadata": {
        "id": "Yc8TicBzscsN",
        "colab_type": "code",
        "colab": {}
      },
      "cell_type": "code",
      "source": [
        "model_wiki = Word2Vec(sentences_wiki, size=100, window=5, min_count=1, workers=4)"
      ],
      "execution_count": 0,
      "outputs": []
    },
    {
      "metadata": {
        "id": "j7Je4flHscsP",
        "colab_type": "text"
      },
      "cell_type": "markdown",
      "source": [
        "Finding similar words: (see gensim docs for more functionality of `most_similar`)"
      ]
    },
    {
      "metadata": {
        "id": "X1Uh-nUGscsP",
        "colab_type": "code",
        "outputId": "00d54347-cdf2-4ebb-a5ca-ec3c2df9cd83",
        "colab": {
          "base_uri": "https://localhost:8080/",
          "height": 253
        }
      },
      "cell_type": "code",
      "source": [
        "model_wiki.wv.most_similar(\"man\")"
      ],
      "execution_count": 0,
      "outputs": [
        {
          "output_type": "stream",
          "text": [
            "/usr/local/lib/python3.6/dist-packages/gensim/matutils.py:737: FutureWarning: Conversion of the second argument of issubdtype from `int` to `np.signedinteger` is deprecated. In future, it will be treated as `np.int64 == np.dtype(int).type`.\n",
            "  if np.issubdtype(vec.dtype, np.int):\n"
          ],
          "name": "stderr"
        },
        {
          "output_type": "execute_result",
          "data": {
            "text/plain": [
              "[('woman', 0.7517253160476685),\n",
              " ('boy', 0.6900894045829773),\n",
              " ('soldier', 0.6575601100921631),\n",
              " ('girl', 0.630258321762085),\n",
              " ('person', 0.6248133182525635),\n",
              " ('dog', 0.601852297782898),\n",
              " ('someone', 0.5858423113822937),\n",
              " ('men', 0.5660068988800049),\n",
              " ('creature', 0.5549851655960083),\n",
              " ('mask', 0.5444527864456177)]"
            ]
          },
          "metadata": {
            "tags": []
          },
          "execution_count": 99
        }
      ]
    },
    {
      "metadata": {
        "id": "gaXmT2EwscsS",
        "colab_type": "code",
        "outputId": "07d2347b-35f5-4b0e-b16d-8761d9d99063",
        "colab": {
          "base_uri": "https://localhost:8080/",
          "height": 253
        }
      },
      "cell_type": "code",
      "source": [
        "model_wiki.wv.most_similar(\"computer\")"
      ],
      "execution_count": 0,
      "outputs": [
        {
          "output_type": "stream",
          "text": [
            "/usr/local/lib/python3.6/dist-packages/gensim/matutils.py:737: FutureWarning: Conversion of the second argument of issubdtype from `int` to `np.signedinteger` is deprecated. In future, it will be treated as `np.int64 == np.dtype(int).type`.\n",
            "  if np.issubdtype(vec.dtype, np.int):\n"
          ],
          "name": "stderr"
        },
        {
          "output_type": "execute_result",
          "data": {
            "text/plain": [
              "[('software', 0.7785661220550537),\n",
              " ('computers', 0.7559411525726318),\n",
              " ('user', 0.7329570055007935),\n",
              " ('computing', 0.7256032228469849),\n",
              " ('graphics', 0.721127450466156),\n",
              " ('handheld', 0.7208528518676758),\n",
              " ('hardware', 0.7197294235229492),\n",
              " ('desktop', 0.7165095806121826),\n",
              " ('controller', 0.7142561674118042),\n",
              " ('technology', 0.7024307250976562)]"
            ]
          },
          "metadata": {
            "tags": []
          },
          "execution_count": 100
        }
      ]
    },
    {
      "metadata": {
        "id": "VphfZe_QscsT",
        "colab_type": "code",
        "outputId": "999e67a1-2779-4964-cfab-306c5e564bb2",
        "colab": {
          "base_uri": "https://localhost:8080/",
          "height": 253
        }
      },
      "cell_type": "code",
      "source": [
        "model_wiki.wv.most_similar(\"paris\")"
      ],
      "execution_count": 0,
      "outputs": [
        {
          "output_type": "stream",
          "text": [
            "/usr/local/lib/python3.6/dist-packages/gensim/matutils.py:737: FutureWarning: Conversion of the second argument of issubdtype from `int` to `np.signedinteger` is deprecated. In future, it will be treated as `np.int64 == np.dtype(int).type`.\n",
            "  if np.issubdtype(vec.dtype, np.int):\n"
          ],
          "name": "stderr"
        },
        {
          "output_type": "execute_result",
          "data": {
            "text/plain": [
              "[('berlin', 0.8220511078834534),\n",
              " ('vienna', 0.7941826581954956),\n",
              " ('copenhagen', 0.7481133937835693),\n",
              " ('brussels', 0.743557333946228),\n",
              " ('amsterdam', 0.7383338212966919),\n",
              " ('stockholm', 0.7249948382377625),\n",
              " ('prague', 0.7187910079956055),\n",
              " ('moscow', 0.7132781147956848),\n",
              " ('helsinki', 0.7088818550109863),\n",
              " ('dublin', 0.6930898427963257)]"
            ]
          },
          "metadata": {
            "tags": []
          },
          "execution_count": 101
        }
      ]
    },
    {
      "metadata": {
        "id": "W4lN0eaxscsW",
        "colab_type": "code",
        "outputId": "841b23b8-906b-474a-938c-fa43f42f7d99",
        "colab": {
          "base_uri": "https://localhost:8080/",
          "height": 253
        }
      },
      "cell_type": "code",
      "source": [
        "model_wiki.wv.most_similar(\"telecom\")"
      ],
      "execution_count": 0,
      "outputs": [
        {
          "output_type": "stream",
          "text": [
            "/usr/local/lib/python3.6/dist-packages/gensim/matutils.py:737: FutureWarning: Conversion of the second argument of issubdtype from `int` to `np.signedinteger` is deprecated. In future, it will be treated as `np.int64 == np.dtype(int).type`.\n",
            "  if np.issubdtype(vec.dtype, np.int):\n"
          ],
          "name": "stderr"
        },
        {
          "output_type": "execute_result",
          "data": {
            "text/plain": [
              "[('shenzhen', 0.8330349922180176),\n",
              " ('abdirahman', 0.8291823863983154),\n",
              " ('malheur', 0.827165424823761),\n",
              " ('cheongdo', 0.8240376710891724),\n",
              " ('hrodna', 0.8199504613876343),\n",
              " ('sanchar', 0.8183985352516174),\n",
              " ('mylan', 0.8157351016998291),\n",
              " ('pvt', 0.8157027959823608),\n",
              " ('swingbeat', 0.8152755498886108),\n",
              " ('beyle', 0.8132756948471069)]"
            ]
          },
          "metadata": {
            "tags": []
          },
          "execution_count": 102
        }
      ]
    },
    {
      "metadata": {
        "id": "7377HKE1scse",
        "colab_type": "text"
      },
      "cell_type": "markdown",
      "source": [
        "#### t-SNE visualization"
      ]
    },
    {
      "metadata": {
        "id": "7l5jGZm-scsf",
        "colab_type": "code",
        "colab": {}
      },
      "cell_type": "code",
      "source": [
        "# This assumes words_top_wiki is a list of strings, the top 1000 words\n",
        "words_top_vec_wiki = model_wiki.wv[words_top_wiki]\n",
        "\n",
        "tsne = TSNE(n_components=2, random_state=0)\n",
        "words_top_wiki_tsne = tsne.fit_transform(words_top_vec_wiki)"
      ],
      "execution_count": 0,
      "outputs": []
    },
    {
      "metadata": {
        "id": "1kx3pyKmscsh",
        "colab_type": "code",
        "outputId": "2b76e7bc-611f-447f-df86-cb4dfc0f91c9",
        "colab": {
          "base_uri": "https://localhost:8080/",
          "height": 647
        }
      },
      "cell_type": "code",
      "source": [
        "output_notebook()\n",
        "p = figure(tools=\"pan,wheel_zoom,reset,save\",\n",
        "           toolbar_location=\"above\",\n",
        "           title=\"word2vec T-SNE for most common words\")\n",
        "\n",
        "source = ColumnDataSource(data=dict(x1=words_top_wiki_tsne[:,0],\n",
        "                                    x2=words_top_wiki_tsne[:,1],\n",
        "                                    names=words_top_wiki))\n",
        "\n",
        "p.scatter(x=\"x1\", y=\"x2\", size=8, source=source)\n",
        "\n",
        "labels = LabelSet(x=\"x1\", y=\"x2\", text=\"names\", y_offset=6,\n",
        "                  text_font_size=\"8pt\", text_color=\"#555555\",\n",
        "                  source=source, text_align='center')\n",
        "p.add_layout(labels)\n",
        "\n",
        "show(p)"
      ],
      "execution_count": 0,
      "outputs": [
        {
          "output_type": "display_data",
          "data": {
            "text/html": [
              "\n",
              "    <div class=\"bk-root\">\n",
              "        <a href=\"https://bokeh.pydata.org\" target=\"_blank\" class=\"bk-logo bk-logo-small bk-logo-notebook\"></a>\n",
              "        <span id=\"1892\">Loading BokehJS ...</span>\n",
              "    </div>"
            ]
          },
          "metadata": {
            "tags": []
          }
        },
        {
          "output_type": "display_data",
          "data": {
            "application/javascript": [
              "\n",
              "(function(root) {\n",
              "  function now() {\n",
              "    return new Date();\n",
              "  }\n",
              "\n",
              "  var force = true;\n",
              "\n",
              "  if (typeof (root._bokeh_onload_callbacks) === \"undefined\" || force === true) {\n",
              "    root._bokeh_onload_callbacks = [];\n",
              "    root._bokeh_is_loading = undefined;\n",
              "  }\n",
              "\n",
              "  var JS_MIME_TYPE = 'application/javascript';\n",
              "  var HTML_MIME_TYPE = 'text/html';\n",
              "  var EXEC_MIME_TYPE = 'application/vnd.bokehjs_exec.v0+json';\n",
              "  var CLASS_NAME = 'output_bokeh rendered_html';\n",
              "\n",
              "  /**\n",
              "   * Render data to the DOM node\n",
              "   */\n",
              "  function render(props, node) {\n",
              "    var script = document.createElement(\"script\");\n",
              "    node.appendChild(script);\n",
              "  }\n",
              "\n",
              "  /**\n",
              "   * Handle when an output is cleared or removed\n",
              "   */\n",
              "  function handleClearOutput(event, handle) {\n",
              "    var cell = handle.cell;\n",
              "\n",
              "    var id = cell.output_area._bokeh_element_id;\n",
              "    var server_id = cell.output_area._bokeh_server_id;\n",
              "    // Clean up Bokeh references\n",
              "    if (id != null && id in Bokeh.index) {\n",
              "      Bokeh.index[id].model.document.clear();\n",
              "      delete Bokeh.index[id];\n",
              "    }\n",
              "\n",
              "    if (server_id !== undefined) {\n",
              "      // Clean up Bokeh references\n",
              "      var cmd = \"from bokeh.io.state import curstate; print(curstate().uuid_to_server['\" + server_id + \"'].get_sessions()[0].document.roots[0]._id)\";\n",
              "      cell.notebook.kernel.execute(cmd, {\n",
              "        iopub: {\n",
              "          output: function(msg) {\n",
              "            var id = msg.content.text.trim();\n",
              "            if (id in Bokeh.index) {\n",
              "              Bokeh.index[id].model.document.clear();\n",
              "              delete Bokeh.index[id];\n",
              "            }\n",
              "          }\n",
              "        }\n",
              "      });\n",
              "      // Destroy server and session\n",
              "      var cmd = \"import bokeh.io.notebook as ion; ion.destroy_server('\" + server_id + \"')\";\n",
              "      cell.notebook.kernel.execute(cmd);\n",
              "    }\n",
              "  }\n",
              "\n",
              "  /**\n",
              "   * Handle when a new output is added\n",
              "   */\n",
              "  function handleAddOutput(event, handle) {\n",
              "    var output_area = handle.output_area;\n",
              "    var output = handle.output;\n",
              "\n",
              "    // limit handleAddOutput to display_data with EXEC_MIME_TYPE content only\n",
              "    if ((output.output_type != \"display_data\") || (!output.data.hasOwnProperty(EXEC_MIME_TYPE))) {\n",
              "      return\n",
              "    }\n",
              "\n",
              "    var toinsert = output_area.element.find(\".\" + CLASS_NAME.split(' ')[0]);\n",
              "\n",
              "    if (output.metadata[EXEC_MIME_TYPE][\"id\"] !== undefined) {\n",
              "      toinsert[toinsert.length - 1].firstChild.textContent = output.data[JS_MIME_TYPE];\n",
              "      // store reference to embed id on output_area\n",
              "      output_area._bokeh_element_id = output.metadata[EXEC_MIME_TYPE][\"id\"];\n",
              "    }\n",
              "    if (output.metadata[EXEC_MIME_TYPE][\"server_id\"] !== undefined) {\n",
              "      var bk_div = document.createElement(\"div\");\n",
              "      bk_div.innerHTML = output.data[HTML_MIME_TYPE];\n",
              "      var script_attrs = bk_div.children[0].attributes;\n",
              "      for (var i = 0; i < script_attrs.length; i++) {\n",
              "        toinsert[toinsert.length - 1].firstChild.setAttribute(script_attrs[i].name, script_attrs[i].value);\n",
              "      }\n",
              "      // store reference to server id on output_area\n",
              "      output_area._bokeh_server_id = output.metadata[EXEC_MIME_TYPE][\"server_id\"];\n",
              "    }\n",
              "  }\n",
              "\n",
              "  function register_renderer(events, OutputArea) {\n",
              "\n",
              "    function append_mime(data, metadata, element) {\n",
              "      // create a DOM node to render to\n",
              "      var toinsert = this.create_output_subarea(\n",
              "        metadata,\n",
              "        CLASS_NAME,\n",
              "        EXEC_MIME_TYPE\n",
              "      );\n",
              "      this.keyboard_manager.register_events(toinsert);\n",
              "      // Render to node\n",
              "      var props = {data: data, metadata: metadata[EXEC_MIME_TYPE]};\n",
              "      render(props, toinsert[toinsert.length - 1]);\n",
              "      element.append(toinsert);\n",
              "      return toinsert\n",
              "    }\n",
              "\n",
              "    /* Handle when an output is cleared or removed */\n",
              "    events.on('clear_output.CodeCell', handleClearOutput);\n",
              "    events.on('delete.Cell', handleClearOutput);\n",
              "\n",
              "    /* Handle when a new output is added */\n",
              "    events.on('output_added.OutputArea', handleAddOutput);\n",
              "\n",
              "    /**\n",
              "     * Register the mime type and append_mime function with output_area\n",
              "     */\n",
              "    OutputArea.prototype.register_mime_type(EXEC_MIME_TYPE, append_mime, {\n",
              "      /* Is output safe? */\n",
              "      safe: true,\n",
              "      /* Index of renderer in `output_area.display_order` */\n",
              "      index: 0\n",
              "    });\n",
              "  }\n",
              "\n",
              "  // register the mime type if in Jupyter Notebook environment and previously unregistered\n",
              "  if (root.Jupyter !== undefined) {\n",
              "    var events = require('base/js/events');\n",
              "    var OutputArea = require('notebook/js/outputarea').OutputArea;\n",
              "\n",
              "    if (OutputArea.prototype.mime_types().indexOf(EXEC_MIME_TYPE) == -1) {\n",
              "      register_renderer(events, OutputArea);\n",
              "    }\n",
              "  }\n",
              "\n",
              "  \n",
              "  if (typeof (root._bokeh_timeout) === \"undefined\" || force === true) {\n",
              "    root._bokeh_timeout = Date.now() + 5000;\n",
              "    root._bokeh_failed_load = false;\n",
              "  }\n",
              "\n",
              "  var NB_LOAD_WARNING = {'data': {'text/html':\n",
              "     \"<div style='background-color: #fdd'>\\n\"+\n",
              "     \"<p>\\n\"+\n",
              "     \"BokehJS does not appear to have successfully loaded. If loading BokehJS from CDN, this \\n\"+\n",
              "     \"may be due to a slow or bad network connection. Possible fixes:\\n\"+\n",
              "     \"</p>\\n\"+\n",
              "     \"<ul>\\n\"+\n",
              "     \"<li>re-rerun `output_notebook()` to attempt to load from CDN again, or</li>\\n\"+\n",
              "     \"<li>use INLINE resources instead, as so:</li>\\n\"+\n",
              "     \"</ul>\\n\"+\n",
              "     \"<code>\\n\"+\n",
              "     \"from bokeh.resources import INLINE\\n\"+\n",
              "     \"output_notebook(resources=INLINE)\\n\"+\n",
              "     \"</code>\\n\"+\n",
              "     \"</div>\"}};\n",
              "\n",
              "  function display_loaded() {\n",
              "    var el = document.getElementById(\"1892\");\n",
              "    if (el != null) {\n",
              "      el.textContent = \"BokehJS is loading...\";\n",
              "    }\n",
              "    if (root.Bokeh !== undefined) {\n",
              "      if (el != null) {\n",
              "        el.textContent = \"BokehJS \" + root.Bokeh.version + \" successfully loaded.\";\n",
              "      }\n",
              "    } else if (Date.now() < root._bokeh_timeout) {\n",
              "      setTimeout(display_loaded, 100)\n",
              "    }\n",
              "  }\n",
              "\n",
              "\n",
              "  function run_callbacks() {\n",
              "    try {\n",
              "      root._bokeh_onload_callbacks.forEach(function(callback) { callback() });\n",
              "    }\n",
              "    finally {\n",
              "      delete root._bokeh_onload_callbacks\n",
              "    }\n",
              "    console.info(\"Bokeh: all callbacks have finished\");\n",
              "  }\n",
              "\n",
              "  function load_libs(js_urls, callback) {\n",
              "    root._bokeh_onload_callbacks.push(callback);\n",
              "    if (root._bokeh_is_loading > 0) {\n",
              "      console.log(\"Bokeh: BokehJS is being loaded, scheduling callback at\", now());\n",
              "      return null;\n",
              "    }\n",
              "    if (js_urls == null || js_urls.length === 0) {\n",
              "      run_callbacks();\n",
              "      return null;\n",
              "    }\n",
              "    console.log(\"Bokeh: BokehJS not loaded, scheduling load and callback at\", now());\n",
              "    root._bokeh_is_loading = js_urls.length;\n",
              "    for (var i = 0; i < js_urls.length; i++) {\n",
              "      var url = js_urls[i];\n",
              "      var s = document.createElement('script');\n",
              "      s.src = url;\n",
              "      s.async = false;\n",
              "      s.onreadystatechange = s.onload = function() {\n",
              "        root._bokeh_is_loading--;\n",
              "        if (root._bokeh_is_loading === 0) {\n",
              "          console.log(\"Bokeh: all BokehJS libraries loaded\");\n",
              "          run_callbacks()\n",
              "        }\n",
              "      };\n",
              "      s.onerror = function() {\n",
              "        console.warn(\"failed to load library \" + url);\n",
              "      };\n",
              "      console.log(\"Bokeh: injecting script tag for BokehJS library: \", url);\n",
              "      document.getElementsByTagName(\"head\")[0].appendChild(s);\n",
              "    }\n",
              "  };var element = document.getElementById(\"1892\");\n",
              "  if (element == null) {\n",
              "    console.log(\"Bokeh: ERROR: autoload.js configured with elementid '1892' but no matching script tag was found. \")\n",
              "    return false;\n",
              "  }\n",
              "\n",
              "  var js_urls = [\"https://cdn.pydata.org/bokeh/release/bokeh-1.0.4.min.js\", \"https://cdn.pydata.org/bokeh/release/bokeh-widgets-1.0.4.min.js\", \"https://cdn.pydata.org/bokeh/release/bokeh-tables-1.0.4.min.js\", \"https://cdn.pydata.org/bokeh/release/bokeh-gl-1.0.4.min.js\"];\n",
              "\n",
              "  var inline_js = [\n",
              "    function(Bokeh) {\n",
              "      Bokeh.set_log_level(\"info\");\n",
              "    },\n",
              "    \n",
              "    function(Bokeh) {\n",
              "      \n",
              "    },\n",
              "    function(Bokeh) {\n",
              "      console.log(\"Bokeh: injecting CSS: https://cdn.pydata.org/bokeh/release/bokeh-1.0.4.min.css\");\n",
              "      Bokeh.embed.inject_css(\"https://cdn.pydata.org/bokeh/release/bokeh-1.0.4.min.css\");\n",
              "      console.log(\"Bokeh: injecting CSS: https://cdn.pydata.org/bokeh/release/bokeh-widgets-1.0.4.min.css\");\n",
              "      Bokeh.embed.inject_css(\"https://cdn.pydata.org/bokeh/release/bokeh-widgets-1.0.4.min.css\");\n",
              "      console.log(\"Bokeh: injecting CSS: https://cdn.pydata.org/bokeh/release/bokeh-tables-1.0.4.min.css\");\n",
              "      Bokeh.embed.inject_css(\"https://cdn.pydata.org/bokeh/release/bokeh-tables-1.0.4.min.css\");\n",
              "    }\n",
              "  ];\n",
              "\n",
              "  function run_inline_js() {\n",
              "    \n",
              "    if ((root.Bokeh !== undefined) || (force === true)) {\n",
              "      for (var i = 0; i < inline_js.length; i++) {\n",
              "        inline_js[i].call(root, root.Bokeh);\n",
              "      }if (force === true) {\n",
              "        display_loaded();\n",
              "      }} else if (Date.now() < root._bokeh_timeout) {\n",
              "      setTimeout(run_inline_js, 100);\n",
              "    } else if (!root._bokeh_failed_load) {\n",
              "      console.log(\"Bokeh: BokehJS failed to load within specified timeout.\");\n",
              "      root._bokeh_failed_load = true;\n",
              "    } else if (force !== true) {\n",
              "      var cell = $(document.getElementById(\"1892\")).parents('.cell').data().cell;\n",
              "      cell.output_area.append_execute_result(NB_LOAD_WARNING)\n",
              "    }\n",
              "\n",
              "  }\n",
              "\n",
              "  if (root._bokeh_is_loading === 0) {\n",
              "    console.log(\"Bokeh: BokehJS loaded, going straight to plotting\");\n",
              "    run_inline_js();\n",
              "  } else {\n",
              "    load_libs(js_urls, function() {\n",
              "      console.log(\"Bokeh: BokehJS plotting callback run at\", now());\n",
              "      run_inline_js();\n",
              "    });\n",
              "  }\n",
              "}(window));"
            ],
            "application/vnd.bokehjs_load.v0+json": "\n(function(root) {\n  function now() {\n    return new Date();\n  }\n\n  var force = true;\n\n  if (typeof (root._bokeh_onload_callbacks) === \"undefined\" || force === true) {\n    root._bokeh_onload_callbacks = [];\n    root._bokeh_is_loading = undefined;\n  }\n\n  \n\n  \n  if (typeof (root._bokeh_timeout) === \"undefined\" || force === true) {\n    root._bokeh_timeout = Date.now() + 5000;\n    root._bokeh_failed_load = false;\n  }\n\n  var NB_LOAD_WARNING = {'data': {'text/html':\n     \"<div style='background-color: #fdd'>\\n\"+\n     \"<p>\\n\"+\n     \"BokehJS does not appear to have successfully loaded. If loading BokehJS from CDN, this \\n\"+\n     \"may be due to a slow or bad network connection. Possible fixes:\\n\"+\n     \"</p>\\n\"+\n     \"<ul>\\n\"+\n     \"<li>re-rerun `output_notebook()` to attempt to load from CDN again, or</li>\\n\"+\n     \"<li>use INLINE resources instead, as so:</li>\\n\"+\n     \"</ul>\\n\"+\n     \"<code>\\n\"+\n     \"from bokeh.resources import INLINE\\n\"+\n     \"output_notebook(resources=INLINE)\\n\"+\n     \"</code>\\n\"+\n     \"</div>\"}};\n\n  function display_loaded() {\n    var el = document.getElementById(\"1892\");\n    if (el != null) {\n      el.textContent = \"BokehJS is loading...\";\n    }\n    if (root.Bokeh !== undefined) {\n      if (el != null) {\n        el.textContent = \"BokehJS \" + root.Bokeh.version + \" successfully loaded.\";\n      }\n    } else if (Date.now() < root._bokeh_timeout) {\n      setTimeout(display_loaded, 100)\n    }\n  }\n\n\n  function run_callbacks() {\n    try {\n      root._bokeh_onload_callbacks.forEach(function(callback) { callback() });\n    }\n    finally {\n      delete root._bokeh_onload_callbacks\n    }\n    console.info(\"Bokeh: all callbacks have finished\");\n  }\n\n  function load_libs(js_urls, callback) {\n    root._bokeh_onload_callbacks.push(callback);\n    if (root._bokeh_is_loading > 0) {\n      console.log(\"Bokeh: BokehJS is being loaded, scheduling callback at\", now());\n      return null;\n    }\n    if (js_urls == null || js_urls.length === 0) {\n      run_callbacks();\n      return null;\n    }\n    console.log(\"Bokeh: BokehJS not loaded, scheduling load and callback at\", now());\n    root._bokeh_is_loading = js_urls.length;\n    for (var i = 0; i < js_urls.length; i++) {\n      var url = js_urls[i];\n      var s = document.createElement('script');\n      s.src = url;\n      s.async = false;\n      s.onreadystatechange = s.onload = function() {\n        root._bokeh_is_loading--;\n        if (root._bokeh_is_loading === 0) {\n          console.log(\"Bokeh: all BokehJS libraries loaded\");\n          run_callbacks()\n        }\n      };\n      s.onerror = function() {\n        console.warn(\"failed to load library \" + url);\n      };\n      console.log(\"Bokeh: injecting script tag for BokehJS library: \", url);\n      document.getElementsByTagName(\"head\")[0].appendChild(s);\n    }\n  };var element = document.getElementById(\"1892\");\n  if (element == null) {\n    console.log(\"Bokeh: ERROR: autoload.js configured with elementid '1892' but no matching script tag was found. \")\n    return false;\n  }\n\n  var js_urls = [\"https://cdn.pydata.org/bokeh/release/bokeh-1.0.4.min.js\", \"https://cdn.pydata.org/bokeh/release/bokeh-widgets-1.0.4.min.js\", \"https://cdn.pydata.org/bokeh/release/bokeh-tables-1.0.4.min.js\", \"https://cdn.pydata.org/bokeh/release/bokeh-gl-1.0.4.min.js\"];\n\n  var inline_js = [\n    function(Bokeh) {\n      Bokeh.set_log_level(\"info\");\n    },\n    \n    function(Bokeh) {\n      \n    },\n    function(Bokeh) {\n      console.log(\"Bokeh: injecting CSS: https://cdn.pydata.org/bokeh/release/bokeh-1.0.4.min.css\");\n      Bokeh.embed.inject_css(\"https://cdn.pydata.org/bokeh/release/bokeh-1.0.4.min.css\");\n      console.log(\"Bokeh: injecting CSS: https://cdn.pydata.org/bokeh/release/bokeh-widgets-1.0.4.min.css\");\n      Bokeh.embed.inject_css(\"https://cdn.pydata.org/bokeh/release/bokeh-widgets-1.0.4.min.css\");\n      console.log(\"Bokeh: injecting CSS: https://cdn.pydata.org/bokeh/release/bokeh-tables-1.0.4.min.css\");\n      Bokeh.embed.inject_css(\"https://cdn.pydata.org/bokeh/release/bokeh-tables-1.0.4.min.css\");\n    }\n  ];\n\n  function run_inline_js() {\n    \n    if ((root.Bokeh !== undefined) || (force === true)) {\n      for (var i = 0; i < inline_js.length; i++) {\n        inline_js[i].call(root, root.Bokeh);\n      }if (force === true) {\n        display_loaded();\n      }} else if (Date.now() < root._bokeh_timeout) {\n      setTimeout(run_inline_js, 100);\n    } else if (!root._bokeh_failed_load) {\n      console.log(\"Bokeh: BokehJS failed to load within specified timeout.\");\n      root._bokeh_failed_load = true;\n    } else if (force !== true) {\n      var cell = $(document.getElementById(\"1892\")).parents('.cell').data().cell;\n      cell.output_area.append_execute_result(NB_LOAD_WARNING)\n    }\n\n  }\n\n  if (root._bokeh_is_loading === 0) {\n    console.log(\"Bokeh: BokehJS loaded, going straight to plotting\");\n    run_inline_js();\n  } else {\n    load_libs(js_urls, function() {\n      console.log(\"Bokeh: BokehJS plotting callback run at\", now());\n      run_inline_js();\n    });\n  }\n}(window));"
          },
          "metadata": {
            "tags": []
          }
        },
        {
          "output_type": "display_data",
          "data": {
            "text/html": [
              "\n",
              "\n",
              "\n",
              "\n",
              "\n",
              "\n",
              "  <div class=\"bk-root\" id=\"19bcb214-5f37-4957-b17b-7b4bcd98719a\" data-root-id=\"1894\"></div>\n"
            ]
          },
          "metadata": {
            "tags": []
          }
        },
        {
          "output_type": "display_data",
          "data": {
            "application/javascript": [
              "(function(root) {\n",
              "  function embed_document(root) {\n",
              "    \n",
              "  var docs_json = {\"54a62860-162a-4bec-a41f-6a30cddc5147\":{\"roots\":{\"references\":[{\"attributes\":{\"below\":[{\"id\":\"1904\",\"type\":\"LinearAxis\"}],\"left\":[{\"id\":\"1909\",\"type\":\"LinearAxis\"}],\"renderers\":[{\"id\":\"1904\",\"type\":\"LinearAxis\"},{\"id\":\"1908\",\"type\":\"Grid\"},{\"id\":\"1909\",\"type\":\"LinearAxis\"},{\"id\":\"1913\",\"type\":\"Grid\"},{\"id\":\"1927\",\"type\":\"GlyphRenderer\"},{\"id\":\"1929\",\"type\":\"LabelSet\"}],\"title\":{\"id\":\"1893\",\"type\":\"Title\"},\"toolbar\":{\"id\":\"1918\",\"type\":\"Toolbar\"},\"toolbar_location\":\"above\",\"x_range\":{\"id\":\"1896\",\"type\":\"DataRange1d\"},\"x_scale\":{\"id\":\"1900\",\"type\":\"LinearScale\"},\"y_range\":{\"id\":\"1898\",\"type\":\"DataRange1d\"},\"y_scale\":{\"id\":\"1902\",\"type\":\"LinearScale\"}},\"id\":\"1894\",\"subtype\":\"Figure\",\"type\":\"Plot\"},{\"attributes\":{},\"id\":\"1910\",\"type\":\"BasicTicker\"},{\"attributes\":{},\"id\":\"1902\",\"type\":\"LinearScale\"},{\"attributes\":{\"formatter\":{\"id\":\"1988\",\"type\":\"BasicTickFormatter\"},\"plot\":{\"id\":\"1894\",\"subtype\":\"Figure\",\"type\":\"Plot\"},\"ticker\":{\"id\":\"1905\",\"type\":\"BasicTicker\"}},\"id\":\"1904\",\"type\":\"LinearAxis\"},{\"attributes\":{\"callback\":null},\"id\":\"1898\",\"type\":\"DataRange1d\"},{\"attributes\":{},\"id\":\"1915\",\"type\":\"WheelZoomTool\"},{\"attributes\":{},\"id\":\"1917\",\"type\":\"SaveTool\"},{\"attributes\":{},\"id\":\"1900\",\"type\":\"LinearScale\"},{\"attributes\":{\"dimension\":1,\"plot\":{\"id\":\"1894\",\"subtype\":\"Figure\",\"type\":\"Plot\"},\"ticker\":{\"id\":\"1910\",\"type\":\"BasicTicker\"}},\"id\":\"1913\",\"type\":\"Grid\"},{\"attributes\":{\"plot\":{\"id\":\"1894\",\"subtype\":\"Figure\",\"type\":\"Plot\"},\"source\":{\"id\":\"1923\",\"type\":\"ColumnDataSource\"},\"text\":{\"field\":\"names\"},\"text_align\":\"center\",\"text_color\":{\"value\":\"#555555\"},\"text_font_size\":{\"value\":\"8pt\"},\"x\":{\"field\":\"x1\"},\"y\":{\"field\":\"x2\"},\"y_offset\":{\"value\":6}},\"id\":\"1929\",\"type\":\"LabelSet\"},{\"attributes\":{\"fill_alpha\":{\"value\":0.1},\"fill_color\":{\"value\":\"#1f77b4\"},\"line_alpha\":{\"value\":0.1},\"line_color\":{\"value\":\"#1f77b4\"},\"size\":{\"units\":\"screen\",\"value\":8},\"x\":{\"field\":\"x1\"},\"y\":{\"field\":\"x2\"}},\"id\":\"1926\",\"type\":\"Scatter\"},{\"attributes\":{\"plot\":{\"id\":\"1894\",\"subtype\":\"Figure\",\"type\":\"Plot\"},\"ticker\":{\"id\":\"1905\",\"type\":\"BasicTicker\"}},\"id\":\"1908\",\"type\":\"Grid\"},{\"attributes\":{\"active_drag\":\"auto\",\"active_inspect\":\"auto\",\"active_multi\":null,\"active_scroll\":\"auto\",\"active_tap\":\"auto\",\"tools\":[{\"id\":\"1914\",\"type\":\"PanTool\"},{\"id\":\"1915\",\"type\":\"WheelZoomTool\"},{\"id\":\"1916\",\"type\":\"ResetTool\"},{\"id\":\"1917\",\"type\":\"SaveTool\"}]},\"id\":\"1918\",\"type\":\"Toolbar\"},{\"attributes\":{},\"id\":\"1905\",\"type\":\"BasicTicker\"},{\"attributes\":{},\"id\":\"1914\",\"type\":\"PanTool\"},{\"attributes\":{\"callback\":null},\"id\":\"1896\",\"type\":\"DataRange1d\"},{\"attributes\":{},\"id\":\"1992\",\"type\":\"UnionRenderers\"},{\"attributes\":{\"fill_color\":{\"value\":\"#1f77b4\"},\"line_color\":{\"value\":\"#1f77b4\"},\"size\":{\"units\":\"screen\",\"value\":8},\"x\":{\"field\":\"x1\"},\"y\":{\"field\":\"x2\"}},\"id\":\"1925\",\"type\":\"Scatter\"},{\"attributes\":{\"callback\":null,\"data\":{\"names\":[\"the\",\"of\",\"and\",\"in\",\"to\",\"a\",\"was\",\"s\",\"on\",\"as\",\"for\",\"that\",\"with\",\"by\",\"is\",\"his\",\"he\",\"at\",\"it\",\"from\",\"were\",\"an\",\"had\",\"which\",\"be\",\"this\",\"but\",\"are\",\"first\",\"not\",\"their\",\"after\",\"one\",\"her\",\"also\",\"its\",\"they\",\"two\",\"have\",\"or\",\"who\",\"has\",\"new\",\"been\",\"she\",\"when\",\"during\",\"time\",\"other\",\"would\",\"into\",\"all\",\"i\",\"more\",\"over\",\"while\",\"him\",\"game\",\"only\",\"up\",\"most\",\"later\",\"out\",\"three\",\"about\",\"between\",\"th\",\"there\",\"than\",\"some\",\"film\",\"may\",\"before\",\"year\",\"made\",\"no\",\"second\",\"such\",\"season\",\"where\",\"world\",\"years\",\"war\",\"however\",\"both\",\"through\",\"these\",\"used\",\"then\",\"song\",\"them\",\"being\",\"series\",\"against\",\"album\",\"many\",\"can\",\"team\",\"became\",\"city\",\"several\",\"part\",\"number\",\"united\",\"north\",\"four\",\"well\",\"early\",\"including\",\"state\",\"under\",\"music\",\"so\",\"south\",\"episode\",\"states\",\"day\",\"following\",\"said\",\"american\",\"could\",\"did\",\"although\",\"work\",\"m\",\"began\",\"until\",\"released\",\"known\",\"because\",\"like\",\"people\",\"high\",\"called\",\"end\",\"british\",\"around\",\"t\",\"since\",\"national\",\"each\",\"if\",\"best\",\"life\",\"found\",\"along\",\"million\",\"west\",\"long\",\"september\",\"back\",\"another\",\"five\",\"same\",\"show\",\"took\",\"us\",\"use\",\"final\",\"group\",\"off\",\"any\",\"area\",\"you\",\"received\",\"century\",\"august\",\"school\",\"due\",\"line\",\"will\",\"what\",\"october\",\"john\",\"government\",\"system\",\"east\",\"single\",\"june\",\"home\",\"games\",\"much\",\"third\",\"july\",\"november\",\"general\",\"set\",\"down\",\"large\",\"march\",\"major\",\"based\",\"april\",\"place\",\"just\",\"left\",\"york\",\"family\",\"history\",\"house\",\"we\",\"included\",\"company\",\"army\",\"character\",\"name\",\"band\",\"road\",\"wrote\",\"six\",\"king\",\"main\",\"january\",\"played\",\"won\",\"video\",\"own\",\"within\",\"according\",\"times\",\"december\",\"next\",\"men\",\"led\",\"near\",\"death\",\"last\",\"river\",\"described\",\"those\",\"make\",\"st\",\"record\",\"named\",\"late\",\"very\",\"de\",\"air\",\"way\",\"original\",\"league\",\"still\",\"release\",\"storm\",\"top\",\"battle\",\"species\",\"d\",\"ship\",\"now\",\"production\",\"small\",\"force\",\"route\",\"old\",\"even\",\"u\",\"again\",\"club\",\"public\",\"man\",\"great\",\"held\",\"play\",\"days\",\"built\",\"among\",\"february\",\"though\",\"service\",\"further\",\"role\",\"university\",\"members\",\"book\",\"side\",\"having\",\"story\",\"do\",\"player\",\"power\",\"match\",\"division\",\"french\",\"often\",\"german\",\"white\",\"water\",\"career\",\"came\",\"point\",\"b\",\"continued\",\"park\",\"town\",\"despite\",\"without\",\"former\",\"local\",\"england\",\"considered\",\"order\",\"songs\",\"party\",\"black\",\"military\",\"take\",\"moved\",\"period\",\"form\",\"few\",\"half\",\"written\",\"support\",\"version\",\"island\",\"different\",\"county\",\"development\",\"forces\",\"tropical\",\"court\",\"become\",\"country\",\"building\",\"little\",\"given\",\"lost\",\"performance\",\"international\",\"my\",\"re\",\"president\",\"london\",\"ii\",\"english\",\"tour\",\"church\",\"lead\",\"similar\",\"using\",\"gave\",\"went\",\"position\",\"produced\",\"published\",\"never\",\"attack\",\"land\",\"recorded\",\"returned\",\"class\",\"television\",\"track\",\"c\",\"street\",\"stated\",\"royal\",\"making\",\"live\",\"how\",\"children\",\"good\",\"include\",\"western\",\"fire\",\"highway\",\"run\",\"star\",\"total\",\"once\",\"week\",\"control\",\"ships\",\"father\",\"throughout\",\"women\",\"short\",\"right\",\"aircraft\",\"himself\",\"upon\",\"me\",\"central\",\"players\",\"design\",\"age\",\"characters\",\"australia\",\"per\",\"instead\",\"away\",\"love\",\"head\",\"writing\",\"seven\",\"title\",\"across\",\"political\",\"young\",\"months\",\"light\",\"previous\",\"developed\",\"less\",\"n\",\"sea\",\"result\",\"eight\",\"remained\",\"ten\",\"night\",\"various\",\"law\",\"rock\",\"noted\",\"hurricane\",\"southern\",\"station\",\"america\",\"reported\",\"eventually\",\"died\",\"red\",\"field\",\"reached\",\"return\",\"too\",\"felt\",\"william\",\"center\",\"areas\",\"act\",\"race\",\"construction\",\"seen\",\"win\",\"james\",\"announced\",\"should\",\"low\",\"km\",\"office\",\"college\",\"created\",\"miles\",\"performed\",\"r\",\"followed\",\"style\",\"award\",\"sent\",\"together\",\"son\",\"common\",\"chart\",\"member\",\"japanese\",\"range\",\"served\",\"campaign\",\"points\",\"full\",\"level\",\"taken\",\"northern\",\"e\",\"started\",\"works\",\"established\",\"success\",\"killed\",\"able\",\"front\",\"action\",\"australian\",\"located\",\"originally\",\"appeared\",\"addition\",\"site\",\"football\",\"others\",\"features\",\"playing\",\"project\",\"body\",\"george\",\"bridge\",\"formed\",\"caused\",\"critics\",\"get\",\"post\",\"sold\",\"saw\",\"guns\",\"almost\",\"thought\",\"fourth\",\"added\",\"special\",\"behind\",\"stage\",\"damage\",\"soon\",\"decided\",\"every\",\"rather\",\"popular\",\"completed\",\"championship\",\"heavy\",\"modern\",\"director\",\"opened\",\"feet\",\"important\",\"initially\",\"open\",\"go\",\"free\",\"command\",\"close\",\"strong\",\"awards\",\"fleet\",\"kingdom\",\"coast\",\"worked\",\"weeks\",\"art\",\"population\",\"event\",\"david\",\"eastern\",\"leading\",\"o\",\"case\",\"h\",\"towards\",\"ground\",\"brought\",\"wanted\",\"working\",\"scene\",\"present\",\"union\",\"recording\",\"region\",\"sound\",\"mother\",\"non\",\"events\",\"provided\",\"ever\",\"france\",\"scored\",\"michael\",\"put\",\"least\",\"allowed\",\"hall\",\"cup\",\"victory\",\"navy\",\"featured\",\"wife\",\"henry\",\"born\",\"help\",\"placed\",\"far\",\"training\",\"does\",\"runs\",\"either\",\"magazine\",\"generally\",\"l\",\"average\",\"records\",\"troops\",\"see\",\"summer\",\"hit\",\"studio\",\"joined\",\"f\",\"opening\",\"washington\",\"human\",\"designed\",\"believed\",\"mid\",\"europe\",\"council\",\"replaced\",\"operation\",\"list\",\"squadron\",\"example\",\"nine\",\"involved\",\"finished\",\"official\",\"test\",\"media\",\"crew\",\"hours\",\"minutes\",\"earlier\",\"base\",\"start\",\"european\",\"successful\",\"rest\",\"co\",\"largest\",\"society\",\"japan\",\"shot\",\"possible\",\"met\",\"available\",\"police\",\"brown\",\"saying\",\"review\",\"association\",\"change\",\"films\",\"significant\",\"robert\",\"big\",\"particularly\",\"reviews\",\"highest\",\"going\",\"turned\",\"praised\",\"cast\",\"relationship\",\"units\",\"taking\",\"business\",\"month\",\"beginning\",\"forced\",\"al\",\"process\",\"real\",\"outside\",\"must\",\"x\",\"section\",\"canada\",\"additional\",\"come\",\"increased\",\"enough\",\"radio\",\"research\",\"gold\",\"ordered\",\"future\",\"thus\",\"rights\",\"hill\",\"ended\",\"social\",\"passed\",\"san\",\"community\",\"captain\",\"board\",\"winds\",\"find\",\"charles\",\"castle\",\"signed\",\"stone\",\"lake\",\"spent\",\"give\",\"told\",\"middle\",\"staff\",\"better\",\"round\",\"move\",\"appearance\",\"space\",\"positive\",\"goal\",\"plan\",\"elements\",\"attempt\",\"don\",\"interest\",\"committee\",\"female\",\"chief\",\"cross\",\"previously\",\"thomas\",\"above\",\"critical\",\"program\",\"gun\",\"lower\",\"california\",\"infantry\",\"reception\",\"news\",\"parts\",\"required\",\"failed\",\"port\",\"asked\",\"groups\",\"overall\",\"itself\",\"district\",\"hand\",\"claimed\",\"brother\",\"money\",\"food\",\"lines\",\"introduced\",\"paul\",\"idea\",\"entire\",\"quickly\",\"cover\",\"complete\",\"prior\",\"musical\",\"room\",\"person\",\"grand\",\"limited\",\"evidence\",\"v\",\"india\",\"study\",\"g\",\"election\",\"personal\",\"type\",\"past\",\"germany\",\"directed\",\"turn\",\"uk\",\"bill\",\"debut\",\"term\",\"whose\",\"effects\",\"governor\",\"our\",\"loss\",\"education\",\"score\",\"indian\",\"remaining\",\"plot\",\"students\",\"background\",\"issue\",\"green\",\"speed\",\"smith\",\"centre\",\"novel\",\"battalion\",\"movement\",\"depression\",\"science\",\"sometimes\",\"services\",\"anti\",\"flight\",\"industry\",\"living\",\"becoming\",\"suggested\",\"writer\",\"usually\",\"operations\",\"minister\",\"decision\",\"teams\",\"bay\",\"whom\",\"britain\",\"commander\",\"ny\",\"commercial\",\"arrived\",\"especially\",\"press\",\"entered\",\"scenes\",\"response\",\"already\",\"episodes\",\"stars\",\"woman\",\"earth\",\"surface\",\"fifth\",\"civil\",\"carried\",\"leaving\",\"department\",\"peter\",\"defeated\",\"los\",\"p\",\"cut\",\"pressure\",\"material\",\"larger\",\"shortly\",\"square\",\"shows\",\"length\",\"queen\",\"structure\",\"richard\",\"mark\",\"car\",\"village\",\"latter\",\"voice\",\"contract\",\"changes\",\"influence\",\"estimated\",\"wide\",\"la\",\"pop\",\"language\",\"date\",\"report\",\"appointed\",\"hot\",\"empire\",\"intended\",\"percent\",\"course\",\"daughter\",\"blue\",\"destroyed\",\"leader\",\"network\",\"experience\",\"provide\",\"might\",\"mm\",\"running\",\"nearly\",\"nature\",\"immediately\",\"fact\",\"lack\",\"virginia\",\"size\",\"self\",\"tracks\",\"related\",\"winning\",\"awarded\",\"cost\",\"naval\",\"god\",\"islands\",\"railway\",\"current\",\"finally\",\"agreed\",\"face\",\"trade\",\"compared\",\"planned\",\"soldiers\",\"k\",\"higher\",\"proposed\",\"child\",\"brigade\",\"married\",\"dark\",\"view\",\"whether\",\"chicago\",\"producer\",\"feature\",\"soviet\",\"themselves\",\"supported\",\"subsequently\",\"plans\",\"fans\",\"museum\",\"key\",\"appear\",\"health\",\"regular\",\"associated\",\"something\",\"done\",\"singles\",\"countries\",\"changed\",\"mostly\",\"officer\",\"jackson\",\"captured\",\"your\",\"remains\",\"approximately\",\"effect\",\"yet\",\"fort\",\"helped\",\"manager\",\"billboard\",\"friends\",\"today\",\"edward\",\"probably\",\"initial\",\"officers\",\"spanish\",\"create\",\"professional\",\"guitar\",\"books\",\"numerous\",\"upper\",\"moving\",\"natural\",\"lyrics\",\"ball\",\"extended\",\"singer\",\"corps\",\"private\",\"forward\",\"copies\",\"got\",\"federal\",\"difficult\",\"leave\",\"always\",\"albums\",\"ran\",\"valley\",\"chinese\",\"meeting\",\"atlantic\",\"energy\",\"winter\",\"florida\",\"longer\",\"inspired\",\"regiment\",\"lord\",\"friend\",\"information\",\"know\",\"johnson\",\"really\",\"buildings\",\"issued\",\"problems\",\"offered\",\"status\",\"dance\",\"mixed\",\"via\",\"pass\",\"nd\",\"location\",\"suffered\",\"texas\",\"majority\",\"appears\",\"likely\",\"independent\",\"composed\",\"christian\",\"revealed\",\"conference\",\"standard\",\"unit\"],\"x1\":{\"__ndarray__\":\"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\",\"dtype\":\"float32\",\"shape\":[1000]},\"x2\":{\"__ndarray__\":\"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\",\"dtype\":\"float32\",\"shape\":[1000]}},\"selected\":{\"id\":\"1993\",\"type\":\"Selection\"},\"selection_policy\":{\"id\":\"1992\",\"type\":\"UnionRenderers\"}},\"id\":\"1923\",\"type\":\"ColumnDataSource\"},{\"attributes\":{},\"id\":\"1993\",\"type\":\"Selection\"},{\"attributes\":{\"plot\":null,\"text\":\"word2vec T-SNE for most common words\"},\"id\":\"1893\",\"type\":\"Title\"},{\"attributes\":{},\"id\":\"1916\",\"type\":\"ResetTool\"},{\"attributes\":{\"data_source\":{\"id\":\"1923\",\"type\":\"ColumnDataSource\"},\"glyph\":{\"id\":\"1925\",\"type\":\"Scatter\"},\"hover_glyph\":null,\"muted_glyph\":null,\"nonselection_glyph\":{\"id\":\"1926\",\"type\":\"Scatter\"},\"selection_glyph\":null,\"view\":{\"id\":\"1928\",\"type\":\"CDSView\"}},\"id\":\"1927\",\"type\":\"GlyphRenderer\"},{\"attributes\":{\"source\":{\"id\":\"1923\",\"type\":\"ColumnDataSource\"}},\"id\":\"1928\",\"type\":\"CDSView\"},{\"attributes\":{\"formatter\":{\"id\":\"1990\",\"type\":\"BasicTickFormatter\"},\"plot\":{\"id\":\"1894\",\"subtype\":\"Figure\",\"type\":\"Plot\"},\"ticker\":{\"id\":\"1910\",\"type\":\"BasicTicker\"}},\"id\":\"1909\",\"type\":\"LinearAxis\"},{\"attributes\":{},\"id\":\"1990\",\"type\":\"BasicTickFormatter\"},{\"attributes\":{},\"id\":\"1988\",\"type\":\"BasicTickFormatter\"}],\"root_ids\":[\"1894\"]},\"title\":\"Bokeh Application\",\"version\":\"1.0.4\"}};\n",
              "  var render_items = [{\"docid\":\"54a62860-162a-4bec-a41f-6a30cddc5147\",\"roots\":{\"1894\":\"19bcb214-5f37-4957-b17b-7b4bcd98719a\"}}];\n",
              "  root.Bokeh.embed.embed_items_notebook(docs_json, render_items);\n",
              "\n",
              "  }\n",
              "  if (root.Bokeh !== undefined) {\n",
              "    embed_document(root);\n",
              "  } else {\n",
              "    var attempts = 0;\n",
              "    var timer = setInterval(function(root) {\n",
              "      if (root.Bokeh !== undefined) {\n",
              "        embed_document(root);\n",
              "        clearInterval(timer);\n",
              "      }\n",
              "      attempts++;\n",
              "      if (attempts > 100) {\n",
              "        console.log(\"Bokeh: ERROR: Unable to run BokehJS code because BokehJS library is missing\");\n",
              "        clearInterval(timer);\n",
              "      }\n",
              "    }, 10, root)\n",
              "  }\n",
              "})(window);"
            ],
            "application/vnd.bokehjs_exec.v0+json": ""
          },
          "metadata": {
            "tags": [],
            "application/vnd.bokehjs_exec.v0+json": {
              "id": "1894"
            }
          }
        }
      ]
    },
    {
      "metadata": {
        "id": "O0ugGZauw0MD",
        "colab_type": "code",
        "colab": {}
      },
      "cell_type": "code",
      "source": [
        ""
      ],
      "execution_count": 0,
      "outputs": []
    }
  ]
}